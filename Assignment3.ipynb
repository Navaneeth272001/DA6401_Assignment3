{
 "cells": [
  {
   "cell_type": "markdown",
   "id": "89102e2a",
   "metadata": {},
   "source": [
    "# Problem Statement\n",
    "\n",
    "In this assignment you will experiment with the [Dakshina dataset](https://github.com/google-research-datasets/dakshina) released by Google. This dataset contains pairs of the following form: \n",
    "\n",
    "$x$.      $y$\n",
    "\n",
    "ajanabee अजनबी.\n",
    "\n",
    "i.e., a word in the native script and its corresponding transliteration in the Latin script (the way we type while chatting with our friends on WhatsApp etc). Given many such $(x_i, y_i)_{i=1}^n$ pairs your goal is to train a model $y = \\hat{f}(x)$ which takes as input a romanized string (ghar) and produces the corresponding word in Devanagari (घर). \n",
    "\n",
    "As you would realise this is the problem of mapping a sequence of characters in one language to a sequence of characters in another language. Notice that this is a scaled down version of the problem of translation where the goal is to translate a sequence of **words** in one language to a sequence of words in another language (as opposed to sequence of **characters** here).\n",
    "\n",
    "Read these blogs to understand how to build neural sequence to sequence models: [blog1](https://keras.io/examples/nlp/lstm_seq2seq/), [blog2](https://machinelearningmastery.com/define-encoder-decoder-sequence-sequence-model-neural-machine-translation-keras/)"
   ]
  },
  {
   "cell_type": "code",
   "execution_count": null,
   "id": "046b3fd2",
   "metadata": {},
   "outputs": [
    {
     "name": "stdout",
     "output_type": "stream",
     "text": [
      "Train set\n",
      "1. Roman: fiat                  →  Native: ஃபியட்\n",
      "2. Roman: phiyat                →  Native: ஃபியட்\n",
      "3. Roman: piyat                 →  Native: ஃபியட்\n",
      "4. Roman: firaans               →  Native: ஃபிரான்ஸ்\n",
      "5. Roman: france                →  Native: ஃபிரான்ஸ்\n",
      "Dev set\n",
      "1. Roman: fire                  →  Native: ஃபயர்\n",
      "2. Roman: phayar                →  Native: ஃபயர்\n",
      "3. Roman: baar                  →  Native: ஃபார்\n",
      "4. Roman: bar                   →  Native: ஃபார்\n",
      "5. Roman: far                   →  Native: ஃபார்\n"
     ]
    }
   ],
   "source": [
    "#This cell contains necessary code for dataset preprocessing and at the I print few examples for looking how the dataset looks like\n",
    "import torch\n",
    "from torch.utils.data import Dataset, DataLoader\n",
    "from torch.nn.utils.rnn import pad_sequence\n",
    "\n",
    "trainPth = \"/mnt/e_disk/DA6401_Assignment3/dataset/dakshina_dataset_v1.0/ta/lexicons/ta.translit.sampled.train.tsv\"\n",
    "devPth   = \"/mnt/e_disk/DA6401_Assignment3/dataset/dakshina_dataset_v1.0/ta/lexicons/ta.translit.sampled.dev.tsv\"\n",
    "testPth = \"/mnt/e_disk/DA6401_Assignment3/dataset/dakshina_dataset_v1.0/ta/lexicons/ta.translit.sampled.test.tsv\"\n",
    "def get_vocab(paths):\n",
    "    chars = set()\n",
    "    for path in paths:\n",
    "        with open(path, encoding=\"utf-8\") as f:\n",
    "            for line in f:\n",
    "                native, roman, _ = line.strip().split(\"\\t\")\n",
    "                chars.update(native)\n",
    "                chars.update(roman)\n",
    "    return chars\n",
    "\n",
    "def get_char2idx(char_set):\n",
    "    chars = [\"<pad>\", \"<sos>\", \"<eos>\", \"<unk>\"] + sorted(char_set)\n",
    "    return {ch: i for i, ch in enumerate(chars)}, chars\n",
    "\n",
    "char_set = get_vocab([trainPth, devPth])\n",
    "roman2idx, idx2roman = get_char2idx(set(c for c in char_set if c.isascii()))\n",
    "dev2idx, idx2dev = get_char2idx(set(c for c in char_set if not c.isascii()))\n",
    "\n",
    "class TranslitDataset(Dataset):\n",
    "    def __init__(self, path, src_c2i, tgt_c2i, max_len=32):\n",
    "        self.data = []\n",
    "        with open(path, encoding=\"utf-8\") as f:\n",
    "            for line in f:\n",
    "                native, roman, _ = line.strip().split(\"\\t\")\n",
    "                self.data.append((roman, native))\n",
    "        self.src_c2i = src_c2i\n",
    "        self.tgt_c2i = tgt_c2i\n",
    "        self.max_len = max_len\n",
    "\n",
    "    def __len__(self):\n",
    "        return len(self.data)\n",
    "\n",
    "    def __getitem__(self, i):\n",
    "        roman, native = self.data[i]\n",
    "        src = [self.src_c2i.get(c, self.src_c2i[\"<unk>\"]) for c in roman[:self.max_len]]\n",
    "        tgt = [self.tgt_c2i[\"<sos>\"]] + \\\n",
    "              [self.tgt_c2i.get(c, self.tgt_c2i[\"<unk>\"]) for c in native[:self.max_len - 1]] + \\\n",
    "              [self.tgt_c2i[\"<eos>\"]]\n",
    "        return torch.tensor(src), torch.tensor(tgt)\n",
    "\n",
    "def pad_batch(batch):\n",
    "    src, tgt = zip(*batch)\n",
    "    src = pad_sequence(src, batch_first=True, padding_value=roman2idx[\"<pad>\"])\n",
    "    tgt = pad_sequence(tgt, batch_first=True, padding_value=dev2idx[\"<pad>\"])\n",
    "    return src, tgt\n",
    "\n",
    "train_ds = TranslitDataset(trainPth, roman2idx, dev2idx, max_len=32)\n",
    "dev_ds   = TranslitDataset(devPth, roman2idx, dev2idx, max_len=32)\n",
    "test_ds   = TranslitDataset(testPth, roman2idx, dev2idx, max_len=32)\n",
    "\n",
    "print(\"Train set\")\n",
    "for i in range(5):\n",
    "    src, tgt = train_ds[i]\n",
    "    roman = ''.join([idx2roman[idx] for idx in src])\n",
    "    native = ''.join([idx2dev[idx] for idx in tgt[1:-1]])  # skip <sos> and <eos>\n",
    "    print(f\"{i+1}. Roman: {roman:20s}  →  Native: {native}\")\n",
    "print(\"Dev set\")\n",
    "for i in range(5):\n",
    "    src, tgt = dev_ds[i]\n",
    "    roman = ''.join([idx2roman[idx] for idx in src])\n",
    "    native = ''.join([idx2dev[idx] for idx in tgt[1:-1]])\n",
    "    print(f\"{i+1}. Roman: {roman:20s}  →  Native: {native}\")\n"
   ]
  },
  {
   "cell_type": "markdown",
   "id": "5064eaa7",
   "metadata": {},
   "source": [
    "## Question 1 (15 Marks)\n",
    "Build a RNN based seq2seq model which contains the following layers: (i) input layer for character embeddings (ii) one encoder RNN which sequentially encodes the input character sequence (Latin) (iii) one decoder RNN which takes the last state of the encoder as input and produces one output character at a time (Devanagari). \n",
    "\n",
    "The code should be flexible such that the dimension of the input character embeddings, the hidden states of the encoders and decoders, the cell (RNN, LSTM, GRU) and the number of layers in the encoder and decoder can be changed.\n",
    "\n",
    "(a) What is the total number of computations done by your network? (assume that the input embedding size is $m$, encoder and decoder have 1 layer each, the hidden cell state is $k$ for both the encoder and decoder, the length of the input and output sequence is the same, i.e., $T$, the size of the vocabulary is the same for the source and target language, i.e., $V$)\n",
    "\n",
    "(b) What is the total number of parameters in your network? (assume that the input embedding size is $m$, encoder and decoder have 1 layer each, the hidden cell state is $k$ for both the encoder and decoder and the length of the input and output sequence is the same, i.e., $T$, the size of the vocabulary is the same for the source and target language, i.e., $V$)"
   ]
  },
  {
   "cell_type": "code",
   "execution_count": null,
   "id": "aa928d35",
   "metadata": {},
   "outputs": [],
   "source": [
    "import torch.nn as nn\n",
    "\n",
    "class Encoder(nn.Module):\n",
    "    def __init__(self, input_dim, emb_dim, hidden_dim, num_layers, cell_type='LSTM'):\n",
    "        super().__init__()\n",
    "        self.embedding = nn.Embedding(input_dim, emb_dim)\n",
    "        rnn_cls = {'RNN': nn.RNN, 'LSTM': nn.LSTM, 'GRU': nn.GRU}[cell_type]\n",
    "        self.rnn = rnn_cls(emb_dim, hidden_dim, num_layers, batch_first=True)\n",
    "        self.cell_type = cell_type\n",
    "\n",
    "    def forward(self, src):\n",
    "        embedded = self.embedding(src)\n",
    "        outputs, hidden = self.rnn(embedded)\n",
    "        return hidden  \n",
    "\n",
    "# Note: hidden is tuple if LSTM, a tensor otherwise..\n",
    "\n",
    "class Decoder(nn.Module):\n",
    "    def __init__(self, output_dim, emb_dim, hidden_dim, num_layers, cell_type='LSTM'):\n",
    "        super().__init__()\n",
    "        self.embedding = nn.Embedding(output_dim, emb_dim)\n",
    "        rnn_cls = {'RNN': nn.RNN, 'LSTM': nn.LSTM, 'GRU': nn.GRU}[cell_type]\n",
    "        self.rnn = rnn_cls(emb_dim, hidden_dim, num_layers, batch_first=True)\n",
    "        self.fc_out = nn.Linear(hidden_dim, output_dim)\n",
    "        self.cell_type = cell_type\n",
    "\n",
    "    def forward(self, input, hidden):\n",
    "        # input: [batch_size]\n",
    "        input = input.unsqueeze(1)  # [batch_size, 1]\n",
    "        embedded = self.embedding(input)  # [batch_size, 1, emb_dim]\n",
    "        output, hidden = self.rnn(embedded, hidden)\n",
    "        prediction = self.fc_out(output.squeeze(1))  # [batch_size, output_dim]\n",
    "        return prediction, hidden\n",
    "\n",
    "\n",
    "class Seq2Seq(nn.Module):\n",
    "    def __init__(self, encoder, decoder, device, cell_type='LSTM'):\n",
    "        super().__init__()\n",
    "        self.encoder = encoder\n",
    "        self.decoder = decoder\n",
    "        self.device = device\n",
    "        self.cell_type = cell_type\n",
    "\n",
    "    def forward(self, src, tgt, teacher_forcing_ratio=0.5):\n",
    "        batch_size, tgt_len = tgt.shape\n",
    "        tgt_vocab_size = self.decoder.embedding.num_embeddings\n",
    "\n",
    "        outputs = torch.zeros(batch_size, tgt_len, tgt_vocab_size).to(self.device)\n",
    "\n",
    "        hidden = self.encoder(src)\n",
    "\n",
    "# First input to decoder is a <sos> token\n",
    "\n",
    "        input = tgt[:, 0]\n",
    "\n",
    "        for t in range(1, tgt_len):\n",
    "            output, hidden = self.decoder(input, hidden)\n",
    "            outputs[:, t] = output\n",
    "            top1 = output.argmax(1)\n",
    "            input = tgt[:, t] if torch.rand(1).item() < teacher_forcing_ratio else top1\n",
    "\n",
    "        return outputs\n"
   ]
  },
  {
   "cell_type": "markdown",
   "id": "2912e05c",
   "metadata": {},
   "source": [
    "(a) What is the total number of computations done by your network? (assume that the input embedding size is $m$, encoder and decoder have 1 layer each, the hidden cell state is $k$ for both the encoder and decoder, the length of the input and output sequence is the same, i.e., $T$, the size of the vocabulary is the same for the source and target language, i.e., $V$)\n",
    "\n",
    "Given: \n",
    "- Input embedding size: m\n",
    "\n",
    "- Hidden size (encoder and decoder): k\n",
    "\n",
    "- Input and output sequence length: T\n",
    "\n",
    "- Vocabulary size (same for source and target): V\n",
    "\n",
    "- One encoder layer and one decoder layer\n",
    "\n",
    "- Model uses LSTM / GRU / RNN cells\n",
    "\n",
    "- Encoder:\n",
    "    - RNN: Cost per step=m⋅k+k⋅k=k(m+k)\n",
    "    - LSTM: Cost per step=4[k(m+k)]=4k(m+k) DUE TO 4 gates\n",
    "    - GRU: Cost per step=3k(m+k)\n",
    "    - Total cost for encoder = T⋅(cost per step)\n",
    "\n",
    "- Decoder:\n",
    "    - RNN: Cost per step=m⋅k+k⋅k=k(m+k)\n",
    "    - LSTM: Cost per step=4[k(m+k)]=4k(m+k) DUE TO 4 gates\n",
    "    - GRU: Cost per step=3k(m+k)\n",
    "    - Output projection cost per step: Hidden→Vocab:k⋅V\n",
    "    - Total cost for decoder = T⋅[RNN cost per step+k⋅V]\n",
    "\n",
    "- Total cost = \n",
    "    - RNN = T⋅[2k(m+k)+kV]\n",
    "    - LSTM = T⋅[8k(m+k)+kV]\n",
    "    - GRU = T⋅[6k(m+k)+kV]\n",
    "\n",
    "(b) What is the total number of parameters in your network? (assume that the input embedding size is $m$, encoder and decoder have 1 layer each, the hidden cell state is $k$ for both the encoder and decoder and the length of the input and output sequence is the same, i.e., $T$, the size of the vocabulary is the same for the source and target language, i.e., $V$)\n",
    "\n",
    "Given:\n",
    "- Embedding size = m\n",
    "- Number of layers in encoder and decoder = 1\n",
    "- Hidden state size = k (both encoder and decoder)\n",
    "- Sequence length = T (same for input and output, but sequence length does not affect the number of parameters)\n",
    "- Vocabulary size (source and target) = V\n",
    "\n",
    "- Pareameters in Embedding layer:\n",
    "    - Encoder Embedding: params=V×m\n",
    "    - Decoder Embedding: params=V×m\n",
    "    - Total Embedding params = 2*V*m\n",
    "\n",
    "- Parameters in RNN Layers\n",
    "    - If LSTM:\n",
    "        - encoder LSTM params=4k(m+k+1)\n",
    "        - decoder LSTM params=4k(m+k+1)\n",
    "        - Linear Layer params=kV+V=V(k+1)\n",
    "        - Total = 2Vm + 8k(m+k+1)+V(k+1)\n",
    "    - If GRU:\n",
    "        - encoder GRU params=3k(m+k+1)\n",
    "        - decoder GRU params=3k(m+k+1)\n",
    "        - Linear Layer params=kV+V=V(k+1)\n",
    "        - Total = 2Vm + 6k(m+k+1)+V(k+1)\n",
    "    - If RNN:\n",
    "        - encoder RNN params=k(m+k+1)\n",
    "        - decoder RNN params=k(m+k+1)\n",
    "        - Linear Layer params=kV+V=V(k+1)\n",
    "        - Total = 2Vm + 2k(m+k+1)+V(k+1)\n",
    "\n"
   ]
  },
  {
   "cell_type": "markdown",
   "id": "5aeeaa41",
   "metadata": {},
   "source": [
    "# Question 2 (10 Marks)\n",
    "\n",
    "You will now train your model using any one language from the [Dakshina dataset](https://github.com/google-research-datasets/dakshina) (I would suggest pick a language that you can read so that it is easy to analyse the errors). Use the standard train, dev, test set from the folder dakshina_dataset_v1.0/hi/lexicons/ (replace hi by the language of your choice)\n",
    "\n",
    "Using the sweep feature in wandb find the best hyperparameter configuration. Here are some suggestions but you are free to decide which hyperparameters you want to explore\n",
    "\n",
    "- input embedding size: 16, 32, 64, 256, ...\n",
    "- number of encoder layers: 1, 2, 3 \n",
    "- number of decoder layers: 1, 2, 3 \n",
    "- hidden layer size: 16, 32, 64, 256, ...\n",
    "- cell type: RNN, GRU, LSTM\n",
    "- dropout: 20%, 30% (btw, where will you add dropout? you should read up a bit on this)\n",
    "- beam search in decoder with different beam sizes: \n",
    "\n",
    "Based on your sweep please paste the following plots which are automatically generated by wandb:\n",
    "- accuracy v/s created plot (I would like to see the number of experiments you ran to get the best configuration). \n",
    "- parallel co-ordinates plot\n",
    "- correlation summary table (to see the correlation of each hyperparameter with the loss/accuracy)\n",
    "\n",
    "Also write down the hyperparameters and their values that you sweeped over. Smart strategies to reduce the number of runs while still achieving a high accuracy would be appreciated. Write down any unique strategy that you tried for efficiently searching the hyperparameters.\n"
   ]
  },
  {
   "cell_type": "code",
   "execution_count": 2,
   "id": "365f85e3",
   "metadata": {},
   "outputs": [
    {
     "name": "stderr",
     "output_type": "stream",
     "text": [
      "\u001b[34m\u001b[1mwandb\u001b[0m: Using wandb-core as the SDK backend.  Please refer to https://wandb.me/wandb-core for more information.\n"
     ]
    },
    {
     "name": "stdout",
     "output_type": "stream",
     "text": [
      "Create sweep with ID: d7qd4jns\n",
      "Sweep URL: https://wandb.ai/navaneeth001/Assignment3/sweeps/d7qd4jns\n"
     ]
    },
    {
     "name": "stderr",
     "output_type": "stream",
     "text": [
      "\u001b[34m\u001b[1mwandb\u001b[0m: Agent Starting Run: fyk2bpuz with config:\n",
      "\u001b[34m\u001b[1mwandb\u001b[0m: \tbatch_size: 64\n",
      "\u001b[34m\u001b[1mwandb\u001b[0m: \tcell_type: GRU\n",
      "\u001b[34m\u001b[1mwandb\u001b[0m: \temb_dim: 128\n",
      "\u001b[34m\u001b[1mwandb\u001b[0m: \tepochs: 15\n",
      "\u001b[34m\u001b[1mwandb\u001b[0m: \thidden_dim: 128\n",
      "\u001b[34m\u001b[1mwandb\u001b[0m: \tlr: 0.001\n",
      "\u001b[34m\u001b[1mwandb\u001b[0m: \tnum_layers: 2\n",
      "\u001b[34m\u001b[1mwandb\u001b[0m: Currently logged in as: \u001b[33mnavaneeth001\u001b[0m to \u001b[32mhttps://api.wandb.ai\u001b[0m. Use \u001b[1m`wandb login --relogin`\u001b[0m to force relogin\n"
     ]
    },
    {
     "data": {
      "text/html": [
       "Tracking run with wandb version 0.19.8"
      ],
      "text/plain": [
       "<IPython.core.display.HTML object>"
      ]
     },
     "metadata": {},
     "output_type": "display_data"
    },
    {
     "data": {
      "text/html": [
       "Run data is saved locally in <code>/mnt/e_disk/DA6401_Assignment3/wandb/run-20250520_133431-fyk2bpuz</code>"
      ],
      "text/plain": [
       "<IPython.core.display.HTML object>"
      ]
     },
     "metadata": {},
     "output_type": "display_data"
    },
    {
     "data": {
      "text/html": [
       "Syncing run <strong><a href='https://wandb.ai/navaneeth001/Assignment3/runs/fyk2bpuz' target=\"_blank\">true-sweep-1</a></strong> to <a href='https://wandb.ai/navaneeth001/Assignment3' target=\"_blank\">Weights & Biases</a> (<a href='https://wandb.me/developer-guide' target=\"_blank\">docs</a>)<br>Sweep page: <a href='https://wandb.ai/navaneeth001/Assignment3/sweeps/d7qd4jns' target=\"_blank\">https://wandb.ai/navaneeth001/Assignment3/sweeps/d7qd4jns</a>"
      ],
      "text/plain": [
       "<IPython.core.display.HTML object>"
      ]
     },
     "metadata": {},
     "output_type": "display_data"
    },
    {
     "data": {
      "text/html": [
       " View project at <a href='https://wandb.ai/navaneeth001/Assignment3' target=\"_blank\">https://wandb.ai/navaneeth001/Assignment3</a>"
      ],
      "text/plain": [
       "<IPython.core.display.HTML object>"
      ]
     },
     "metadata": {},
     "output_type": "display_data"
    },
    {
     "data": {
      "text/html": [
       " View sweep at <a href='https://wandb.ai/navaneeth001/Assignment3/sweeps/d7qd4jns' target=\"_blank\">https://wandb.ai/navaneeth001/Assignment3/sweeps/d7qd4jns</a>"
      ],
      "text/plain": [
       "<IPython.core.display.HTML object>"
      ]
     },
     "metadata": {},
     "output_type": "display_data"
    },
    {
     "data": {
      "text/html": [
       " View run at <a href='https://wandb.ai/navaneeth001/Assignment3/runs/fyk2bpuz' target=\"_blank\">https://wandb.ai/navaneeth001/Assignment3/runs/fyk2bpuz</a>"
      ],
      "text/plain": [
       "<IPython.core.display.HTML object>"
      ]
     },
     "metadata": {},
     "output_type": "display_data"
    },
    {
     "data": {
      "text/html": [],
      "text/plain": [
       "<IPython.core.display.HTML object>"
      ]
     },
     "metadata": {},
     "output_type": "display_data"
    },
    {
     "data": {
      "text/html": [
       "<br>    <style><br>        .wandb-row {<br>            display: flex;<br>            flex-direction: row;<br>            flex-wrap: wrap;<br>            justify-content: flex-start;<br>            width: 100%;<br>        }<br>        .wandb-col {<br>            display: flex;<br>            flex-direction: column;<br>            flex-basis: 100%;<br>            flex: 1;<br>            padding: 10px;<br>        }<br>    </style><br><div class=\"wandb-row\"><div class=\"wandb-col\"><h3>Run history:</h3><br/><table class=\"wandb\"><tr><td>epoch</td><td>▁▁▂▃▃▃▄▅▅▅▆▇▇▇█</td></tr><tr><td>train_loss</td><td>█▃▃▂▂▂▂▁▁▁▁▁▁▁▁</td></tr><tr><td>train_token_accuracy</td><td>▁▆▇▇▇▇█████████</td></tr><tr><td>val_loss</td><td>█▃▁▁▁▂▂▂▂▃▃▄▄▅▄</td></tr><tr><td>val_token_accuracy</td><td>▁▅▇▇███████▇███</td></tr><tr><td>val_word_accuracy</td><td>▁▄▇█▇▆▇▆▆▆▃▄▄▃▂</td></tr></table><br/></div><div class=\"wandb-col\"><h3>Run summary:</h3><br/><table class=\"wandb\"><tr><td>epoch</td><td>15</td></tr><tr><td>train_loss</td><td>0.16675</td></tr><tr><td>train_token_accuracy</td><td>0.95951</td></tr><tr><td>val_loss</td><td>1.17045</td></tr><tr><td>val_token_accuracy</td><td>0.78039</td></tr><tr><td>val_word_accuracy</td><td>0.06093</td></tr></table><br/></div></div>"
      ],
      "text/plain": [
       "<IPython.core.display.HTML object>"
      ]
     },
     "metadata": {},
     "output_type": "display_data"
    },
    {
     "data": {
      "text/html": [
       " View run <strong style=\"color:#cdcd00\">cell_GRU/hid_128/emb_128/lay_2/lr_0.001</strong> at: <a href='https://wandb.ai/navaneeth001/Assignment3/runs/fyk2bpuz' target=\"_blank\">https://wandb.ai/navaneeth001/Assignment3/runs/fyk2bpuz</a><br> View project at: <a href='https://wandb.ai/navaneeth001/Assignment3' target=\"_blank\">https://wandb.ai/navaneeth001/Assignment3</a><br>Synced 5 W&B file(s), 0 media file(s), 6 artifact file(s) and 0 other file(s)"
      ],
      "text/plain": [
       "<IPython.core.display.HTML object>"
      ]
     },
     "metadata": {},
     "output_type": "display_data"
    },
    {
     "data": {
      "text/html": [
       "Find logs at: <code>./wandb/run-20250520_133431-fyk2bpuz/logs</code>"
      ],
      "text/plain": [
       "<IPython.core.display.HTML object>"
      ]
     },
     "metadata": {},
     "output_type": "display_data"
    },
    {
     "name": "stderr",
     "output_type": "stream",
     "text": [
      "\u001b[34m\u001b[1mwandb\u001b[0m: Agent Starting Run: fngbvqhg with config:\n",
      "\u001b[34m\u001b[1mwandb\u001b[0m: \tbatch_size: 64\n",
      "\u001b[34m\u001b[1mwandb\u001b[0m: \tcell_type: GRU\n",
      "\u001b[34m\u001b[1mwandb\u001b[0m: \temb_dim: 64\n",
      "\u001b[34m\u001b[1mwandb\u001b[0m: \tepochs: 15\n",
      "\u001b[34m\u001b[1mwandb\u001b[0m: \thidden_dim: 128\n",
      "\u001b[34m\u001b[1mwandb\u001b[0m: \tlr: 0.0001\n",
      "\u001b[34m\u001b[1mwandb\u001b[0m: \tnum_layers: 2\n"
     ]
    },
    {
     "data": {
      "text/html": [
       "Tracking run with wandb version 0.19.8"
      ],
      "text/plain": [
       "<IPython.core.display.HTML object>"
      ]
     },
     "metadata": {},
     "output_type": "display_data"
    },
    {
     "data": {
      "text/html": [
       "Run data is saved locally in <code>/mnt/e_disk/DA6401_Assignment3/wandb/run-20250520_134538-fngbvqhg</code>"
      ],
      "text/plain": [
       "<IPython.core.display.HTML object>"
      ]
     },
     "metadata": {},
     "output_type": "display_data"
    },
    {
     "data": {
      "text/html": [
       "Syncing run <strong><a href='https://wandb.ai/navaneeth001/Assignment3/runs/fngbvqhg' target=\"_blank\">expert-sweep-2</a></strong> to <a href='https://wandb.ai/navaneeth001/Assignment3' target=\"_blank\">Weights & Biases</a> (<a href='https://wandb.me/developer-guide' target=\"_blank\">docs</a>)<br>Sweep page: <a href='https://wandb.ai/navaneeth001/Assignment3/sweeps/d7qd4jns' target=\"_blank\">https://wandb.ai/navaneeth001/Assignment3/sweeps/d7qd4jns</a>"
      ],
      "text/plain": [
       "<IPython.core.display.HTML object>"
      ]
     },
     "metadata": {},
     "output_type": "display_data"
    },
    {
     "data": {
      "text/html": [
       " View project at <a href='https://wandb.ai/navaneeth001/Assignment3' target=\"_blank\">https://wandb.ai/navaneeth001/Assignment3</a>"
      ],
      "text/plain": [
       "<IPython.core.display.HTML object>"
      ]
     },
     "metadata": {},
     "output_type": "display_data"
    },
    {
     "data": {
      "text/html": [
       " View sweep at <a href='https://wandb.ai/navaneeth001/Assignment3/sweeps/d7qd4jns' target=\"_blank\">https://wandb.ai/navaneeth001/Assignment3/sweeps/d7qd4jns</a>"
      ],
      "text/plain": [
       "<IPython.core.display.HTML object>"
      ]
     },
     "metadata": {},
     "output_type": "display_data"
    },
    {
     "data": {
      "text/html": [
       " View run at <a href='https://wandb.ai/navaneeth001/Assignment3/runs/fngbvqhg' target=\"_blank\">https://wandb.ai/navaneeth001/Assignment3/runs/fngbvqhg</a>"
      ],
      "text/plain": [
       "<IPython.core.display.HTML object>"
      ]
     },
     "metadata": {},
     "output_type": "display_data"
    },
    {
     "data": {
      "text/html": [],
      "text/plain": [
       "<IPython.core.display.HTML object>"
      ]
     },
     "metadata": {},
     "output_type": "display_data"
    },
    {
     "data": {
      "text/html": [
       "<br>    <style><br>        .wandb-row {<br>            display: flex;<br>            flex-direction: row;<br>            flex-wrap: wrap;<br>            justify-content: flex-start;<br>            width: 100%;<br>        }<br>        .wandb-col {<br>            display: flex;<br>            flex-direction: column;<br>            flex-basis: 100%;<br>            flex: 1;<br>            padding: 10px;<br>        }<br>    </style><br><div class=\"wandb-row\"><div class=\"wandb-col\"><h3>Run history:</h3><br/><table class=\"wandb\"><tr><td>epoch</td><td>▁▁▂▃▃▃▄▅▅▅▆▇▇▇█</td></tr><tr><td>train_loss</td><td>█▇▆▅▄▄▃▃▂▂▂▁▁▁▁</td></tr><tr><td>train_token_accuracy</td><td>▁▂▃▄▄▅▆▆▇▇▇▇███</td></tr><tr><td>val_loss</td><td>█▇▆▆▅▄▄▃▃▂▂▂▁▁▁</td></tr><tr><td>val_token_accuracy</td><td>▁▂▃▃▄▄▅▅▆▇▇▇▇██</td></tr><tr><td>val_word_accuracy</td><td>▁▁▁▁▁▂▂▃▄▅▆▆▇▇█</td></tr></table><br/></div><div class=\"wandb-col\"><h3>Run summary:</h3><br/><table class=\"wandb\"><tr><td>epoch</td><td>15</td></tr><tr><td>train_loss</td><td>0.69221</td></tr><tr><td>train_token_accuracy</td><td>0.81824</td></tr><tr><td>val_loss</td><td>1.16258</td></tr><tr><td>val_token_accuracy</td><td>0.70539</td></tr><tr><td>val_word_accuracy</td><td>0.23905</td></tr></table><br/></div></div>"
      ],
      "text/plain": [
       "<IPython.core.display.HTML object>"
      ]
     },
     "metadata": {},
     "output_type": "display_data"
    },
    {
     "data": {
      "text/html": [
       " View run <strong style=\"color:#cdcd00\">cell_GRU/hid_128/emb_64/lay_2/lr_0.0001</strong> at: <a href='https://wandb.ai/navaneeth001/Assignment3/runs/fngbvqhg' target=\"_blank\">https://wandb.ai/navaneeth001/Assignment3/runs/fngbvqhg</a><br> View project at: <a href='https://wandb.ai/navaneeth001/Assignment3' target=\"_blank\">https://wandb.ai/navaneeth001/Assignment3</a><br>Synced 5 W&B file(s), 0 media file(s), 30 artifact file(s) and 0 other file(s)"
      ],
      "text/plain": [
       "<IPython.core.display.HTML object>"
      ]
     },
     "metadata": {},
     "output_type": "display_data"
    },
    {
     "data": {
      "text/html": [
       "Find logs at: <code>./wandb/run-20250520_134538-fngbvqhg/logs</code>"
      ],
      "text/plain": [
       "<IPython.core.display.HTML object>"
      ]
     },
     "metadata": {},
     "output_type": "display_data"
    },
    {
     "name": "stderr",
     "output_type": "stream",
     "text": [
      "\u001b[34m\u001b[1mwandb\u001b[0m: Agent Starting Run: 5ljyayfz with config:\n",
      "\u001b[34m\u001b[1mwandb\u001b[0m: \tbatch_size: 64\n",
      "\u001b[34m\u001b[1mwandb\u001b[0m: \tcell_type: LSTM\n",
      "\u001b[34m\u001b[1mwandb\u001b[0m: \temb_dim: 64\n",
      "\u001b[34m\u001b[1mwandb\u001b[0m: \tepochs: 10\n",
      "\u001b[34m\u001b[1mwandb\u001b[0m: \thidden_dim: 128\n",
      "\u001b[34m\u001b[1mwandb\u001b[0m: \tlr: 0.0001\n",
      "\u001b[34m\u001b[1mwandb\u001b[0m: \tnum_layers: 1\n"
     ]
    },
    {
     "data": {
      "text/html": [
       "Tracking run with wandb version 0.19.8"
      ],
      "text/plain": [
       "<IPython.core.display.HTML object>"
      ]
     },
     "metadata": {},
     "output_type": "display_data"
    },
    {
     "data": {
      "text/html": [
       "Run data is saved locally in <code>/mnt/e_disk/DA6401_Assignment3/wandb/run-20250520_135718-5ljyayfz</code>"
      ],
      "text/plain": [
       "<IPython.core.display.HTML object>"
      ]
     },
     "metadata": {},
     "output_type": "display_data"
    },
    {
     "data": {
      "text/html": [
       "Syncing run <strong><a href='https://wandb.ai/navaneeth001/Assignment3/runs/5ljyayfz' target=\"_blank\">misty-sweep-3</a></strong> to <a href='https://wandb.ai/navaneeth001/Assignment3' target=\"_blank\">Weights & Biases</a> (<a href='https://wandb.me/developer-guide' target=\"_blank\">docs</a>)<br>Sweep page: <a href='https://wandb.ai/navaneeth001/Assignment3/sweeps/d7qd4jns' target=\"_blank\">https://wandb.ai/navaneeth001/Assignment3/sweeps/d7qd4jns</a>"
      ],
      "text/plain": [
       "<IPython.core.display.HTML object>"
      ]
     },
     "metadata": {},
     "output_type": "display_data"
    },
    {
     "data": {
      "text/html": [
       " View project at <a href='https://wandb.ai/navaneeth001/Assignment3' target=\"_blank\">https://wandb.ai/navaneeth001/Assignment3</a>"
      ],
      "text/plain": [
       "<IPython.core.display.HTML object>"
      ]
     },
     "metadata": {},
     "output_type": "display_data"
    },
    {
     "data": {
      "text/html": [
       " View sweep at <a href='https://wandb.ai/navaneeth001/Assignment3/sweeps/d7qd4jns' target=\"_blank\">https://wandb.ai/navaneeth001/Assignment3/sweeps/d7qd4jns</a>"
      ],
      "text/plain": [
       "<IPython.core.display.HTML object>"
      ]
     },
     "metadata": {},
     "output_type": "display_data"
    },
    {
     "data": {
      "text/html": [
       " View run at <a href='https://wandb.ai/navaneeth001/Assignment3/runs/5ljyayfz' target=\"_blank\">https://wandb.ai/navaneeth001/Assignment3/runs/5ljyayfz</a>"
      ],
      "text/plain": [
       "<IPython.core.display.HTML object>"
      ]
     },
     "metadata": {},
     "output_type": "display_data"
    },
    {
     "data": {
      "text/html": [],
      "text/plain": [
       "<IPython.core.display.HTML object>"
      ]
     },
     "metadata": {},
     "output_type": "display_data"
    },
    {
     "data": {
      "text/html": [
       "<br>    <style><br>        .wandb-row {<br>            display: flex;<br>            flex-direction: row;<br>            flex-wrap: wrap;<br>            justify-content: flex-start;<br>            width: 100%;<br>        }<br>        .wandb-col {<br>            display: flex;<br>            flex-direction: column;<br>            flex-basis: 100%;<br>            flex: 1;<br>            padding: 10px;<br>        }<br>    </style><br><div class=\"wandb-row\"><div class=\"wandb-col\"><h3>Run history:</h3><br/><table class=\"wandb\"><tr><td>epoch</td><td>▁▂▃▃▄▅▆▆▇█</td></tr><tr><td>train_loss</td><td>█▆▅▅▄▃▂▂▁▁</td></tr><tr><td>train_token_accuracy</td><td>▁▂▃▄▅▆▆▇▇█</td></tr><tr><td>val_loss</td><td>█▇▆▆▅▄▃▂▂▁</td></tr><tr><td>val_token_accuracy</td><td>▁▂▂▃▄▄▅▆▇█</td></tr><tr><td>val_word_accuracy</td><td>▁▁▁▁▂▂▃▆▇█</td></tr></table><br/></div><div class=\"wandb-col\"><h3>Run summary:</h3><br/><table class=\"wandb\"><tr><td>epoch</td><td>10</td></tr><tr><td>train_loss</td><td>1.17238</td></tr><tr><td>train_token_accuracy</td><td>0.66236</td></tr><tr><td>val_loss</td><td>1.7206</td></tr><tr><td>val_token_accuracy</td><td>0.50939</td></tr><tr><td>val_word_accuracy</td><td>0.01143</td></tr></table><br/></div></div>"
      ],
      "text/plain": [
       "<IPython.core.display.HTML object>"
      ]
     },
     "metadata": {},
     "output_type": "display_data"
    },
    {
     "data": {
      "text/html": [
       " View run <strong style=\"color:#cdcd00\">cell_LSTM/hid_128/emb_64/lay_1/lr_0.0001</strong> at: <a href='https://wandb.ai/navaneeth001/Assignment3/runs/5ljyayfz' target=\"_blank\">https://wandb.ai/navaneeth001/Assignment3/runs/5ljyayfz</a><br> View project at: <a href='https://wandb.ai/navaneeth001/Assignment3' target=\"_blank\">https://wandb.ai/navaneeth001/Assignment3</a><br>Synced 5 W&B file(s), 0 media file(s), 20 artifact file(s) and 0 other file(s)"
      ],
      "text/plain": [
       "<IPython.core.display.HTML object>"
      ]
     },
     "metadata": {},
     "output_type": "display_data"
    },
    {
     "data": {
      "text/html": [
       "Find logs at: <code>./wandb/run-20250520_135718-5ljyayfz/logs</code>"
      ],
      "text/plain": [
       "<IPython.core.display.HTML object>"
      ]
     },
     "metadata": {},
     "output_type": "display_data"
    },
    {
     "name": "stderr",
     "output_type": "stream",
     "text": [
      "\u001b[34m\u001b[1mwandb\u001b[0m: Agent Starting Run: sce2m7rr with config:\n",
      "\u001b[34m\u001b[1mwandb\u001b[0m: \tbatch_size: 64\n",
      "\u001b[34m\u001b[1mwandb\u001b[0m: \tcell_type: GRU\n",
      "\u001b[34m\u001b[1mwandb\u001b[0m: \temb_dim: 64\n",
      "\u001b[34m\u001b[1mwandb\u001b[0m: \tepochs: 10\n",
      "\u001b[34m\u001b[1mwandb\u001b[0m: \thidden_dim: 256\n",
      "\u001b[34m\u001b[1mwandb\u001b[0m: \tlr: 0.0001\n",
      "\u001b[34m\u001b[1mwandb\u001b[0m: \tnum_layers: 1\n"
     ]
    },
    {
     "data": {
      "text/html": [
       "Tracking run with wandb version 0.19.8"
      ],
      "text/plain": [
       "<IPython.core.display.HTML object>"
      ]
     },
     "metadata": {},
     "output_type": "display_data"
    },
    {
     "data": {
      "text/html": [
       "Run data is saved locally in <code>/mnt/e_disk/DA6401_Assignment3/wandb/run-20250520_140419-sce2m7rr</code>"
      ],
      "text/plain": [
       "<IPython.core.display.HTML object>"
      ]
     },
     "metadata": {},
     "output_type": "display_data"
    },
    {
     "data": {
      "text/html": [
       "Syncing run <strong><a href='https://wandb.ai/navaneeth001/Assignment3/runs/sce2m7rr' target=\"_blank\">whole-sweep-4</a></strong> to <a href='https://wandb.ai/navaneeth001/Assignment3' target=\"_blank\">Weights & Biases</a> (<a href='https://wandb.me/developer-guide' target=\"_blank\">docs</a>)<br>Sweep page: <a href='https://wandb.ai/navaneeth001/Assignment3/sweeps/d7qd4jns' target=\"_blank\">https://wandb.ai/navaneeth001/Assignment3/sweeps/d7qd4jns</a>"
      ],
      "text/plain": [
       "<IPython.core.display.HTML object>"
      ]
     },
     "metadata": {},
     "output_type": "display_data"
    },
    {
     "data": {
      "text/html": [
       " View project at <a href='https://wandb.ai/navaneeth001/Assignment3' target=\"_blank\">https://wandb.ai/navaneeth001/Assignment3</a>"
      ],
      "text/plain": [
       "<IPython.core.display.HTML object>"
      ]
     },
     "metadata": {},
     "output_type": "display_data"
    },
    {
     "data": {
      "text/html": [
       " View sweep at <a href='https://wandb.ai/navaneeth001/Assignment3/sweeps/d7qd4jns' target=\"_blank\">https://wandb.ai/navaneeth001/Assignment3/sweeps/d7qd4jns</a>"
      ],
      "text/plain": [
       "<IPython.core.display.HTML object>"
      ]
     },
     "metadata": {},
     "output_type": "display_data"
    },
    {
     "data": {
      "text/html": [
       " View run at <a href='https://wandb.ai/navaneeth001/Assignment3/runs/sce2m7rr' target=\"_blank\">https://wandb.ai/navaneeth001/Assignment3/runs/sce2m7rr</a>"
      ],
      "text/plain": [
       "<IPython.core.display.HTML object>"
      ]
     },
     "metadata": {},
     "output_type": "display_data"
    },
    {
     "data": {
      "text/html": [],
      "text/plain": [
       "<IPython.core.display.HTML object>"
      ]
     },
     "metadata": {},
     "output_type": "display_data"
    },
    {
     "data": {
      "text/html": [
       "<br>    <style><br>        .wandb-row {<br>            display: flex;<br>            flex-direction: row;<br>            flex-wrap: wrap;<br>            justify-content: flex-start;<br>            width: 100%;<br>        }<br>        .wandb-col {<br>            display: flex;<br>            flex-direction: column;<br>            flex-basis: 100%;<br>            flex: 1;<br>            padding: 10px;<br>        }<br>    </style><br><div class=\"wandb-row\"><div class=\"wandb-col\"><h3>Run history:</h3><br/><table class=\"wandb\"><tr><td>epoch</td><td>▁▂▃▃▄▅▆▆▇█</td></tr><tr><td>train_loss</td><td>█▆▅▄▃▃▂▂▁▁</td></tr><tr><td>train_token_accuracy</td><td>▁▂▃▄▅▆▇▇██</td></tr><tr><td>val_loss</td><td>█▇▆▅▄▃▂▂▁▁</td></tr><tr><td>val_token_accuracy</td><td>▁▂▃▄▅▆▇▇██</td></tr><tr><td>val_word_accuracy</td><td>▁▁▁▂▂▃▅▆▇█</td></tr></table><br/></div><div class=\"wandb-col\"><h3>Run summary:</h3><br/><table class=\"wandb\"><tr><td>epoch</td><td>10</td></tr><tr><td>train_loss</td><td>0.76835</td></tr><tr><td>train_token_accuracy</td><td>0.79555</td></tr><tr><td>val_loss</td><td>1.27734</td></tr><tr><td>val_token_accuracy</td><td>0.66522</td></tr><tr><td>val_word_accuracy</td><td>0.13168</td></tr></table><br/></div></div>"
      ],
      "text/plain": [
       "<IPython.core.display.HTML object>"
      ]
     },
     "metadata": {},
     "output_type": "display_data"
    },
    {
     "data": {
      "text/html": [
       " View run <strong style=\"color:#cdcd00\">cell_GRU/hid_256/emb_64/lay_1/lr_0.0001</strong> at: <a href='https://wandb.ai/navaneeth001/Assignment3/runs/sce2m7rr' target=\"_blank\">https://wandb.ai/navaneeth001/Assignment3/runs/sce2m7rr</a><br> View project at: <a href='https://wandb.ai/navaneeth001/Assignment3' target=\"_blank\">https://wandb.ai/navaneeth001/Assignment3</a><br>Synced 5 W&B file(s), 0 media file(s), 20 artifact file(s) and 0 other file(s)"
      ],
      "text/plain": [
       "<IPython.core.display.HTML object>"
      ]
     },
     "metadata": {},
     "output_type": "display_data"
    },
    {
     "data": {
      "text/html": [
       "Find logs at: <code>./wandb/run-20250520_140419-sce2m7rr/logs</code>"
      ],
      "text/plain": [
       "<IPython.core.display.HTML object>"
      ]
     },
     "metadata": {},
     "output_type": "display_data"
    },
    {
     "name": "stderr",
     "output_type": "stream",
     "text": [
      "\u001b[34m\u001b[1mwandb\u001b[0m: Sweep Agent: Waiting for job.\n",
      "\u001b[34m\u001b[1mwandb\u001b[0m: Job received.\n",
      "\u001b[34m\u001b[1mwandb\u001b[0m: Agent Starting Run: piiuub04 with config:\n",
      "\u001b[34m\u001b[1mwandb\u001b[0m: \tbatch_size: 32\n",
      "\u001b[34m\u001b[1mwandb\u001b[0m: \tcell_type: GRU\n",
      "\u001b[34m\u001b[1mwandb\u001b[0m: \temb_dim: 64\n",
      "\u001b[34m\u001b[1mwandb\u001b[0m: \tepochs: 20\n",
      "\u001b[34m\u001b[1mwandb\u001b[0m: \thidden_dim: 256\n",
      "\u001b[34m\u001b[1mwandb\u001b[0m: \tlr: 0.0001\n",
      "\u001b[34m\u001b[1mwandb\u001b[0m: \tnum_layers: 2\n"
     ]
    },
    {
     "data": {
      "text/html": [
       "Tracking run with wandb version 0.19.8"
      ],
      "text/plain": [
       "<IPython.core.display.HTML object>"
      ]
     },
     "metadata": {},
     "output_type": "display_data"
    },
    {
     "data": {
      "text/html": [
       "Run data is saved locally in <code>/mnt/e_disk/DA6401_Assignment3/wandb/run-20250520_141152-piiuub04</code>"
      ],
      "text/plain": [
       "<IPython.core.display.HTML object>"
      ]
     },
     "metadata": {},
     "output_type": "display_data"
    },
    {
     "data": {
      "text/html": [
       "Syncing run <strong><a href='https://wandb.ai/navaneeth001/Assignment3/runs/piiuub04' target=\"_blank\">drawn-sweep-5</a></strong> to <a href='https://wandb.ai/navaneeth001/Assignment3' target=\"_blank\">Weights & Biases</a> (<a href='https://wandb.me/developer-guide' target=\"_blank\">docs</a>)<br>Sweep page: <a href='https://wandb.ai/navaneeth001/Assignment3/sweeps/d7qd4jns' target=\"_blank\">https://wandb.ai/navaneeth001/Assignment3/sweeps/d7qd4jns</a>"
      ],
      "text/plain": [
       "<IPython.core.display.HTML object>"
      ]
     },
     "metadata": {},
     "output_type": "display_data"
    },
    {
     "data": {
      "text/html": [
       " View project at <a href='https://wandb.ai/navaneeth001/Assignment3' target=\"_blank\">https://wandb.ai/navaneeth001/Assignment3</a>"
      ],
      "text/plain": [
       "<IPython.core.display.HTML object>"
      ]
     },
     "metadata": {},
     "output_type": "display_data"
    },
    {
     "data": {
      "text/html": [
       " View sweep at <a href='https://wandb.ai/navaneeth001/Assignment3/sweeps/d7qd4jns' target=\"_blank\">https://wandb.ai/navaneeth001/Assignment3/sweeps/d7qd4jns</a>"
      ],
      "text/plain": [
       "<IPython.core.display.HTML object>"
      ]
     },
     "metadata": {},
     "output_type": "display_data"
    },
    {
     "data": {
      "text/html": [
       " View run at <a href='https://wandb.ai/navaneeth001/Assignment3/runs/piiuub04' target=\"_blank\">https://wandb.ai/navaneeth001/Assignment3/runs/piiuub04</a>"
      ],
      "text/plain": [
       "<IPython.core.display.HTML object>"
      ]
     },
     "metadata": {},
     "output_type": "display_data"
    },
    {
     "data": {
      "text/html": [],
      "text/plain": [
       "<IPython.core.display.HTML object>"
      ]
     },
     "metadata": {},
     "output_type": "display_data"
    },
    {
     "data": {
      "text/html": [
       "<br>    <style><br>        .wandb-row {<br>            display: flex;<br>            flex-direction: row;<br>            flex-wrap: wrap;<br>            justify-content: flex-start;<br>            width: 100%;<br>        }<br>        .wandb-col {<br>            display: flex;<br>            flex-direction: column;<br>            flex-basis: 100%;<br>            flex: 1;<br>            padding: 10px;<br>        }<br>    </style><br><div class=\"wandb-row\"><div class=\"wandb-col\"><h3>Run history:</h3><br/><table class=\"wandb\"><tr><td>epoch</td><td>▁▁▂▂▂▃▃▄▄▄▅▅▅▆▆▇▇▇██</td></tr><tr><td>train_loss</td><td>█▅▃▃▂▂▂▂▂▂▁▁▁▁▁▁▁▁▁▁</td></tr><tr><td>train_token_accuracy</td><td>▁▄▆▆▇▇▇▇▇▇██████████</td></tr><tr><td>val_loss</td><td>█▅▃▂▂▁▁▁▁▁▁▁▁▁▁▁▁▁▁▂</td></tr><tr><td>val_token_accuracy</td><td>▁▄▅▆▇▇▇█████████████</td></tr><tr><td>val_word_accuracy</td><td>▁▂▄▅▆▆▇▇▇███████████</td></tr></table><br/></div><div class=\"wandb-col\"><h3>Run summary:</h3><br/><table class=\"wandb\"><tr><td>epoch</td><td>20</td></tr><tr><td>train_loss</td><td>0.1721</td></tr><tr><td>train_token_accuracy</td><td>0.9603</td></tr><tr><td>val_loss</td><td>1.00347</td></tr><tr><td>val_token_accuracy</td><td>0.79854</td></tr><tr><td>val_word_accuracy</td><td>0.44339</td></tr></table><br/></div></div>"
      ],
      "text/plain": [
       "<IPython.core.display.HTML object>"
      ]
     },
     "metadata": {},
     "output_type": "display_data"
    },
    {
     "data": {
      "text/html": [
       " View run <strong style=\"color:#cdcd00\">cell_GRU/hid_256/emb_64/lay_2/lr_0.0001</strong> at: <a href='https://wandb.ai/navaneeth001/Assignment3/runs/piiuub04' target=\"_blank\">https://wandb.ai/navaneeth001/Assignment3/runs/piiuub04</a><br> View project at: <a href='https://wandb.ai/navaneeth001/Assignment3' target=\"_blank\">https://wandb.ai/navaneeth001/Assignment3</a><br>Synced 5 W&B file(s), 0 media file(s), 20 artifact file(s) and 0 other file(s)"
      ],
      "text/plain": [
       "<IPython.core.display.HTML object>"
      ]
     },
     "metadata": {},
     "output_type": "display_data"
    },
    {
     "data": {
      "text/html": [
       "Find logs at: <code>./wandb/run-20250520_141152-piiuub04/logs</code>"
      ],
      "text/plain": [
       "<IPython.core.display.HTML object>"
      ]
     },
     "metadata": {},
     "output_type": "display_data"
    },
    {
     "name": "stderr",
     "output_type": "stream",
     "text": [
      "\u001b[34m\u001b[1mwandb\u001b[0m: Agent Starting Run: kp14xrit with config:\n",
      "\u001b[34m\u001b[1mwandb\u001b[0m: \tbatch_size: 64\n",
      "\u001b[34m\u001b[1mwandb\u001b[0m: \tcell_type: GRU\n",
      "\u001b[34m\u001b[1mwandb\u001b[0m: \temb_dim: 64\n",
      "\u001b[34m\u001b[1mwandb\u001b[0m: \tepochs: 20\n",
      "\u001b[34m\u001b[1mwandb\u001b[0m: \thidden_dim: 256\n",
      "\u001b[34m\u001b[1mwandb\u001b[0m: \tlr: 0.0001\n",
      "\u001b[34m\u001b[1mwandb\u001b[0m: \tnum_layers: 2\n"
     ]
    },
    {
     "data": {
      "text/html": [
       "Tracking run with wandb version 0.19.8"
      ],
      "text/plain": [
       "<IPython.core.display.HTML object>"
      ]
     },
     "metadata": {},
     "output_type": "display_data"
    },
    {
     "data": {
      "text/html": [
       "Run data is saved locally in <code>/mnt/e_disk/DA6401_Assignment3/wandb/run-20250520_143707-kp14xrit</code>"
      ],
      "text/plain": [
       "<IPython.core.display.HTML object>"
      ]
     },
     "metadata": {},
     "output_type": "display_data"
    },
    {
     "data": {
      "text/html": [
       "Syncing run <strong><a href='https://wandb.ai/navaneeth001/Assignment3/runs/kp14xrit' target=\"_blank\">fallen-sweep-6</a></strong> to <a href='https://wandb.ai/navaneeth001/Assignment3' target=\"_blank\">Weights & Biases</a> (<a href='https://wandb.me/developer-guide' target=\"_blank\">docs</a>)<br>Sweep page: <a href='https://wandb.ai/navaneeth001/Assignment3/sweeps/d7qd4jns' target=\"_blank\">https://wandb.ai/navaneeth001/Assignment3/sweeps/d7qd4jns</a>"
      ],
      "text/plain": [
       "<IPython.core.display.HTML object>"
      ]
     },
     "metadata": {},
     "output_type": "display_data"
    },
    {
     "data": {
      "text/html": [
       " View project at <a href='https://wandb.ai/navaneeth001/Assignment3' target=\"_blank\">https://wandb.ai/navaneeth001/Assignment3</a>"
      ],
      "text/plain": [
       "<IPython.core.display.HTML object>"
      ]
     },
     "metadata": {},
     "output_type": "display_data"
    },
    {
     "data": {
      "text/html": [
       " View sweep at <a href='https://wandb.ai/navaneeth001/Assignment3/sweeps/d7qd4jns' target=\"_blank\">https://wandb.ai/navaneeth001/Assignment3/sweeps/d7qd4jns</a>"
      ],
      "text/plain": [
       "<IPython.core.display.HTML object>"
      ]
     },
     "metadata": {},
     "output_type": "display_data"
    },
    {
     "data": {
      "text/html": [
       " View run at <a href='https://wandb.ai/navaneeth001/Assignment3/runs/kp14xrit' target=\"_blank\">https://wandb.ai/navaneeth001/Assignment3/runs/kp14xrit</a>"
      ],
      "text/plain": [
       "<IPython.core.display.HTML object>"
      ]
     },
     "metadata": {},
     "output_type": "display_data"
    },
    {
     "data": {
      "text/html": [],
      "text/plain": [
       "<IPython.core.display.HTML object>"
      ]
     },
     "metadata": {},
     "output_type": "display_data"
    },
    {
     "data": {
      "text/html": [
       "<br>    <style><br>        .wandb-row {<br>            display: flex;<br>            flex-direction: row;<br>            flex-wrap: wrap;<br>            justify-content: flex-start;<br>            width: 100%;<br>        }<br>        .wandb-col {<br>            display: flex;<br>            flex-direction: column;<br>            flex-basis: 100%;<br>            flex: 1;<br>            padding: 10px;<br>        }<br>    </style><br><div class=\"wandb-row\"><div class=\"wandb-col\"><h3>Run history:</h3><br/><table class=\"wandb\"><tr><td>epoch</td><td>▁▁▂▂▂▃▃▄▄▄▅▅▅▆▆▇▇▇██</td></tr><tr><td>train_loss</td><td>█▆▄▃▃▂▂▂▂▂▂▁▁▁▁▁▁▁▁▁</td></tr><tr><td>train_token_accuracy</td><td>▁▃▄▆▆▇▇▇▇▇██████████</td></tr><tr><td>val_loss</td><td>█▆▅▄▃▂▂▂▁▁▁▁▁▁▁▁▁▁▁▁</td></tr><tr><td>val_token_accuracy</td><td>▁▂▄▅▆▇▇▇▇███████████</td></tr><tr><td>val_word_accuracy</td><td>▁▁▂▃▅▆▆▇▇▇▇█▇███████</td></tr></table><br/></div><div class=\"wandb-col\"><h3>Run summary:</h3><br/><table class=\"wandb\"><tr><td>epoch</td><td>20</td></tr><tr><td>train_loss</td><td>0.25684</td></tr><tr><td>train_token_accuracy</td><td>0.93932</td></tr><tr><td>val_loss</td><td>0.89119</td></tr><tr><td>val_token_accuracy</td><td>0.80898</td></tr><tr><td>val_word_accuracy</td><td>0.41175</td></tr></table><br/></div></div>"
      ],
      "text/plain": [
       "<IPython.core.display.HTML object>"
      ]
     },
     "metadata": {},
     "output_type": "display_data"
    },
    {
     "data": {
      "text/html": [
       " View run <strong style=\"color:#cdcd00\">cell_GRU/hid_256/emb_64/lay_2/lr_0.0001</strong> at: <a href='https://wandb.ai/navaneeth001/Assignment3/runs/kp14xrit' target=\"_blank\">https://wandb.ai/navaneeth001/Assignment3/runs/kp14xrit</a><br> View project at: <a href='https://wandb.ai/navaneeth001/Assignment3' target=\"_blank\">https://wandb.ai/navaneeth001/Assignment3</a><br>Synced 5 W&B file(s), 0 media file(s), 32 artifact file(s) and 0 other file(s)"
      ],
      "text/plain": [
       "<IPython.core.display.HTML object>"
      ]
     },
     "metadata": {},
     "output_type": "display_data"
    },
    {
     "data": {
      "text/html": [
       "Find logs at: <code>./wandb/run-20250520_143707-kp14xrit/logs</code>"
      ],
      "text/plain": [
       "<IPython.core.display.HTML object>"
      ]
     },
     "metadata": {},
     "output_type": "display_data"
    },
    {
     "name": "stderr",
     "output_type": "stream",
     "text": [
      "\u001b[34m\u001b[1mwandb\u001b[0m: Agent Starting Run: 9wc7bwkg with config:\n",
      "\u001b[34m\u001b[1mwandb\u001b[0m: \tbatch_size: 64\n",
      "\u001b[34m\u001b[1mwandb\u001b[0m: \tcell_type: GRU\n",
      "\u001b[34m\u001b[1mwandb\u001b[0m: \temb_dim: 128\n",
      "\u001b[34m\u001b[1mwandb\u001b[0m: \tepochs: 20\n",
      "\u001b[34m\u001b[1mwandb\u001b[0m: \thidden_dim: 256\n",
      "\u001b[34m\u001b[1mwandb\u001b[0m: \tlr: 0.0001\n",
      "\u001b[34m\u001b[1mwandb\u001b[0m: \tnum_layers: 2\n"
     ]
    },
    {
     "data": {
      "text/html": [
       "Tracking run with wandb version 0.19.8"
      ],
      "text/plain": [
       "<IPython.core.display.HTML object>"
      ]
     },
     "metadata": {},
     "output_type": "display_data"
    },
    {
     "data": {
      "text/html": [
       "Run data is saved locally in <code>/mnt/e_disk/DA6401_Assignment3/wandb/run-20250520_145353-9wc7bwkg</code>"
      ],
      "text/plain": [
       "<IPython.core.display.HTML object>"
      ]
     },
     "metadata": {},
     "output_type": "display_data"
    },
    {
     "data": {
      "text/html": [
       "Syncing run <strong><a href='https://wandb.ai/navaneeth001/Assignment3/runs/9wc7bwkg' target=\"_blank\">brisk-sweep-7</a></strong> to <a href='https://wandb.ai/navaneeth001/Assignment3' target=\"_blank\">Weights & Biases</a> (<a href='https://wandb.me/developer-guide' target=\"_blank\">docs</a>)<br>Sweep page: <a href='https://wandb.ai/navaneeth001/Assignment3/sweeps/d7qd4jns' target=\"_blank\">https://wandb.ai/navaneeth001/Assignment3/sweeps/d7qd4jns</a>"
      ],
      "text/plain": [
       "<IPython.core.display.HTML object>"
      ]
     },
     "metadata": {},
     "output_type": "display_data"
    },
    {
     "data": {
      "text/html": [
       " View project at <a href='https://wandb.ai/navaneeth001/Assignment3' target=\"_blank\">https://wandb.ai/navaneeth001/Assignment3</a>"
      ],
      "text/plain": [
       "<IPython.core.display.HTML object>"
      ]
     },
     "metadata": {},
     "output_type": "display_data"
    },
    {
     "data": {
      "text/html": [
       " View sweep at <a href='https://wandb.ai/navaneeth001/Assignment3/sweeps/d7qd4jns' target=\"_blank\">https://wandb.ai/navaneeth001/Assignment3/sweeps/d7qd4jns</a>"
      ],
      "text/plain": [
       "<IPython.core.display.HTML object>"
      ]
     },
     "metadata": {},
     "output_type": "display_data"
    },
    {
     "data": {
      "text/html": [
       " View run at <a href='https://wandb.ai/navaneeth001/Assignment3/runs/9wc7bwkg' target=\"_blank\">https://wandb.ai/navaneeth001/Assignment3/runs/9wc7bwkg</a>"
      ],
      "text/plain": [
       "<IPython.core.display.HTML object>"
      ]
     },
     "metadata": {},
     "output_type": "display_data"
    },
    {
     "data": {
      "text/html": [],
      "text/plain": [
       "<IPython.core.display.HTML object>"
      ]
     },
     "metadata": {},
     "output_type": "display_data"
    },
    {
     "data": {
      "text/html": [
       "<br>    <style><br>        .wandb-row {<br>            display: flex;<br>            flex-direction: row;<br>            flex-wrap: wrap;<br>            justify-content: flex-start;<br>            width: 100%;<br>        }<br>        .wandb-col {<br>            display: flex;<br>            flex-direction: column;<br>            flex-basis: 100%;<br>            flex: 1;<br>            padding: 10px;<br>        }<br>    </style><br><div class=\"wandb-row\"><div class=\"wandb-col\"><h3>Run history:</h3><br/><table class=\"wandb\"><tr><td>epoch</td><td>▁▁▂▂▂▃▃▄▄▄▅▅▅▆▆▇▇▇██</td></tr><tr><td>train_loss</td><td>█▅▄▃▂▂▂▂▂▂▁▁▁▁▁▁▁▁▁▁</td></tr><tr><td>train_token_accuracy</td><td>▁▃▅▆▇▇▇▇▇███████████</td></tr><tr><td>val_loss</td><td>█▅▄▃▂▂▁▁▁▁▁▁▁▁▁▁▁▁▁▁</td></tr><tr><td>val_token_accuracy</td><td>▁▃▅▆▇▇▇█████████████</td></tr><tr><td>val_word_accuracy</td><td>▁▂▃▅▆▆▇▇█▇▇██▇▇█████</td></tr></table><br/></div><div class=\"wandb-col\"><h3>Run summary:</h3><br/><table class=\"wandb\"><tr><td>epoch</td><td>20</td></tr><tr><td>train_loss</td><td>0.21066</td></tr><tr><td>train_token_accuracy</td><td>0.95106</td></tr><tr><td>val_loss</td><td>0.94912</td></tr><tr><td>val_token_accuracy</td><td>0.80339</td></tr><tr><td>val_word_accuracy</td><td>0.39402</td></tr></table><br/></div></div>"
      ],
      "text/plain": [
       "<IPython.core.display.HTML object>"
      ]
     },
     "metadata": {},
     "output_type": "display_data"
    },
    {
     "data": {
      "text/html": [
       " View run <strong style=\"color:#cdcd00\">cell_GRU/hid_256/emb_128/lay_2/lr_0.0001</strong> at: <a href='https://wandb.ai/navaneeth001/Assignment3/runs/9wc7bwkg' target=\"_blank\">https://wandb.ai/navaneeth001/Assignment3/runs/9wc7bwkg</a><br> View project at: <a href='https://wandb.ai/navaneeth001/Assignment3' target=\"_blank\">https://wandb.ai/navaneeth001/Assignment3</a><br>Synced 5 W&B file(s), 0 media file(s), 26 artifact file(s) and 0 other file(s)"
      ],
      "text/plain": [
       "<IPython.core.display.HTML object>"
      ]
     },
     "metadata": {},
     "output_type": "display_data"
    },
    {
     "data": {
      "text/html": [
       "Find logs at: <code>./wandb/run-20250520_145353-9wc7bwkg/logs</code>"
      ],
      "text/plain": [
       "<IPython.core.display.HTML object>"
      ]
     },
     "metadata": {},
     "output_type": "display_data"
    },
    {
     "name": "stderr",
     "output_type": "stream",
     "text": [
      "\u001b[34m\u001b[1mwandb\u001b[0m: Agent Starting Run: sr6wltvu with config:\n",
      "\u001b[34m\u001b[1mwandb\u001b[0m: \tbatch_size: 64\n",
      "\u001b[34m\u001b[1mwandb\u001b[0m: \tcell_type: RNN\n",
      "\u001b[34m\u001b[1mwandb\u001b[0m: \temb_dim: 128\n",
      "\u001b[34m\u001b[1mwandb\u001b[0m: \tepochs: 20\n",
      "\u001b[34m\u001b[1mwandb\u001b[0m: \thidden_dim: 256\n",
      "\u001b[34m\u001b[1mwandb\u001b[0m: \tlr: 0.0001\n",
      "\u001b[34m\u001b[1mwandb\u001b[0m: \tnum_layers: 2\n"
     ]
    },
    {
     "data": {
      "text/html": [
       "Tracking run with wandb version 0.19.8"
      ],
      "text/plain": [
       "<IPython.core.display.HTML object>"
      ]
     },
     "metadata": {},
     "output_type": "display_data"
    },
    {
     "data": {
      "text/html": [
       "Run data is saved locally in <code>/mnt/e_disk/DA6401_Assignment3/wandb/run-20250520_151103-sr6wltvu</code>"
      ],
      "text/plain": [
       "<IPython.core.display.HTML object>"
      ]
     },
     "metadata": {},
     "output_type": "display_data"
    },
    {
     "data": {
      "text/html": [
       "Syncing run <strong><a href='https://wandb.ai/navaneeth001/Assignment3/runs/sr6wltvu' target=\"_blank\">absurd-sweep-8</a></strong> to <a href='https://wandb.ai/navaneeth001/Assignment3' target=\"_blank\">Weights & Biases</a> (<a href='https://wandb.me/developer-guide' target=\"_blank\">docs</a>)<br>Sweep page: <a href='https://wandb.ai/navaneeth001/Assignment3/sweeps/d7qd4jns' target=\"_blank\">https://wandb.ai/navaneeth001/Assignment3/sweeps/d7qd4jns</a>"
      ],
      "text/plain": [
       "<IPython.core.display.HTML object>"
      ]
     },
     "metadata": {},
     "output_type": "display_data"
    },
    {
     "data": {
      "text/html": [
       " View project at <a href='https://wandb.ai/navaneeth001/Assignment3' target=\"_blank\">https://wandb.ai/navaneeth001/Assignment3</a>"
      ],
      "text/plain": [
       "<IPython.core.display.HTML object>"
      ]
     },
     "metadata": {},
     "output_type": "display_data"
    },
    {
     "data": {
      "text/html": [
       " View sweep at <a href='https://wandb.ai/navaneeth001/Assignment3/sweeps/d7qd4jns' target=\"_blank\">https://wandb.ai/navaneeth001/Assignment3/sweeps/d7qd4jns</a>"
      ],
      "text/plain": [
       "<IPython.core.display.HTML object>"
      ]
     },
     "metadata": {},
     "output_type": "display_data"
    },
    {
     "data": {
      "text/html": [
       " View run at <a href='https://wandb.ai/navaneeth001/Assignment3/runs/sr6wltvu' target=\"_blank\">https://wandb.ai/navaneeth001/Assignment3/runs/sr6wltvu</a>"
      ],
      "text/plain": [
       "<IPython.core.display.HTML object>"
      ]
     },
     "metadata": {},
     "output_type": "display_data"
    },
    {
     "data": {
      "text/html": [],
      "text/plain": [
       "<IPython.core.display.HTML object>"
      ]
     },
     "metadata": {},
     "output_type": "display_data"
    },
    {
     "data": {
      "text/html": [
       "<br>    <style><br>        .wandb-row {<br>            display: flex;<br>            flex-direction: row;<br>            flex-wrap: wrap;<br>            justify-content: flex-start;<br>            width: 100%;<br>        }<br>        .wandb-col {<br>            display: flex;<br>            flex-direction: column;<br>            flex-basis: 100%;<br>            flex: 1;<br>            padding: 10px;<br>        }<br>    </style><br><div class=\"wandb-row\"><div class=\"wandb-col\"><h3>Run history:</h3><br/><table class=\"wandb\"><tr><td>epoch</td><td>▁▁▂▂▂▃▃▄▄▄▅▅▅▆▆▇▇▇██</td></tr><tr><td>train_loss</td><td>█▄▄▃▃▃▂▂▂▂▂▂▂▂▁▁▁▁▁▁</td></tr><tr><td>train_token_accuracy</td><td>▁▄▅▅▆▆▆▇▇▇▇▇▇▇██████</td></tr><tr><td>val_loss</td><td>█▃▄▃▂▃▃▂▁▃▁▂▂▂▂▂▁▂▄▃</td></tr><tr><td>val_token_accuracy</td><td>▁▇▅▇▆▅▆▆▇▇█▆▇▇▆██▇▅▆</td></tr><tr><td>val_word_accuracy</td><td>▁▁▁▁▁▁▁▁▁▁▁▁▁▁▁▁▁▁▁▁</td></tr></table><br/></div><div class=\"wandb-col\"><h3>Run summary:</h3><br/><table class=\"wandb\"><tr><td>epoch</td><td>20</td></tr><tr><td>train_loss</td><td>2.09554</td></tr><tr><td>train_token_accuracy</td><td>0.38487</td></tr><tr><td>val_loss</td><td>2.78007</td></tr><tr><td>val_token_accuracy</td><td>0.19471</td></tr><tr><td>val_word_accuracy</td><td>0</td></tr></table><br/></div></div>"
      ],
      "text/plain": [
       "<IPython.core.display.HTML object>"
      ]
     },
     "metadata": {},
     "output_type": "display_data"
    },
    {
     "data": {
      "text/html": [
       " View run <strong style=\"color:#cdcd00\">cell_RNN/hid_256/emb_128/lay_2/lr_0.0001</strong> at: <a href='https://wandb.ai/navaneeth001/Assignment3/runs/sr6wltvu' target=\"_blank\">https://wandb.ai/navaneeth001/Assignment3/runs/sr6wltvu</a><br> View project at: <a href='https://wandb.ai/navaneeth001/Assignment3' target=\"_blank\">https://wandb.ai/navaneeth001/Assignment3</a><br>Synced 5 W&B file(s), 0 media file(s), 10 artifact file(s) and 0 other file(s)"
      ],
      "text/plain": [
       "<IPython.core.display.HTML object>"
      ]
     },
     "metadata": {},
     "output_type": "display_data"
    },
    {
     "data": {
      "text/html": [
       "Find logs at: <code>./wandb/run-20250520_151103-sr6wltvu/logs</code>"
      ],
      "text/plain": [
       "<IPython.core.display.HTML object>"
      ]
     },
     "metadata": {},
     "output_type": "display_data"
    },
    {
     "name": "stderr",
     "output_type": "stream",
     "text": [
      "\u001b[34m\u001b[1mwandb\u001b[0m: Sweep Agent: Waiting for job.\n",
      "\u001b[34m\u001b[1mwandb\u001b[0m: Job received.\n",
      "\u001b[34m\u001b[1mwandb\u001b[0m: Agent Starting Run: 3f8enbac with config:\n",
      "\u001b[34m\u001b[1mwandb\u001b[0m: \tbatch_size: 32\n",
      "\u001b[34m\u001b[1mwandb\u001b[0m: \tcell_type: GRU\n",
      "\u001b[34m\u001b[1mwandb\u001b[0m: \temb_dim: 128\n",
      "\u001b[34m\u001b[1mwandb\u001b[0m: \tepochs: 15\n",
      "\u001b[34m\u001b[1mwandb\u001b[0m: \thidden_dim: 128\n",
      "\u001b[34m\u001b[1mwandb\u001b[0m: \tlr: 0.0001\n",
      "\u001b[34m\u001b[1mwandb\u001b[0m: \tnum_layers: 2\n"
     ]
    },
    {
     "data": {
      "text/html": [
       "Tracking run with wandb version 0.19.8"
      ],
      "text/plain": [
       "<IPython.core.display.HTML object>"
      ]
     },
     "metadata": {},
     "output_type": "display_data"
    },
    {
     "data": {
      "text/html": [
       "Run data is saved locally in <code>/mnt/e_disk/DA6401_Assignment3/wandb/run-20250520_152756-3f8enbac</code>"
      ],
      "text/plain": [
       "<IPython.core.display.HTML object>"
      ]
     },
     "metadata": {},
     "output_type": "display_data"
    },
    {
     "data": {
      "text/html": [
       "Syncing run <strong><a href='https://wandb.ai/navaneeth001/Assignment3/runs/3f8enbac' target=\"_blank\">true-sweep-9</a></strong> to <a href='https://wandb.ai/navaneeth001/Assignment3' target=\"_blank\">Weights & Biases</a> (<a href='https://wandb.me/developer-guide' target=\"_blank\">docs</a>)<br>Sweep page: <a href='https://wandb.ai/navaneeth001/Assignment3/sweeps/d7qd4jns' target=\"_blank\">https://wandb.ai/navaneeth001/Assignment3/sweeps/d7qd4jns</a>"
      ],
      "text/plain": [
       "<IPython.core.display.HTML object>"
      ]
     },
     "metadata": {},
     "output_type": "display_data"
    },
    {
     "data": {
      "text/html": [
       " View project at <a href='https://wandb.ai/navaneeth001/Assignment3' target=\"_blank\">https://wandb.ai/navaneeth001/Assignment3</a>"
      ],
      "text/plain": [
       "<IPython.core.display.HTML object>"
      ]
     },
     "metadata": {},
     "output_type": "display_data"
    },
    {
     "data": {
      "text/html": [
       " View sweep at <a href='https://wandb.ai/navaneeth001/Assignment3/sweeps/d7qd4jns' target=\"_blank\">https://wandb.ai/navaneeth001/Assignment3/sweeps/d7qd4jns</a>"
      ],
      "text/plain": [
       "<IPython.core.display.HTML object>"
      ]
     },
     "metadata": {},
     "output_type": "display_data"
    },
    {
     "data": {
      "text/html": [
       " View run at <a href='https://wandb.ai/navaneeth001/Assignment3/runs/3f8enbac' target=\"_blank\">https://wandb.ai/navaneeth001/Assignment3/runs/3f8enbac</a>"
      ],
      "text/plain": [
       "<IPython.core.display.HTML object>"
      ]
     },
     "metadata": {},
     "output_type": "display_data"
    },
    {
     "data": {
      "text/html": [],
      "text/plain": [
       "<IPython.core.display.HTML object>"
      ]
     },
     "metadata": {},
     "output_type": "display_data"
    },
    {
     "data": {
      "text/html": [
       "<br>    <style><br>        .wandb-row {<br>            display: flex;<br>            flex-direction: row;<br>            flex-wrap: wrap;<br>            justify-content: flex-start;<br>            width: 100%;<br>        }<br>        .wandb-col {<br>            display: flex;<br>            flex-direction: column;<br>            flex-basis: 100%;<br>            flex: 1;<br>            padding: 10px;<br>        }<br>    </style><br><div class=\"wandb-row\"><div class=\"wandb-col\"><h3>Run history:</h3><br/><table class=\"wandb\"><tr><td>epoch</td><td>▁▁▂▃▃▃▄▅▅▅▆▇▇▇█</td></tr><tr><td>train_loss</td><td>█▆▅▃▃▂▂▂▂▁▁▁▁▁▁</td></tr><tr><td>train_token_accuracy</td><td>▁▃▄▅▆▇▇▇▇██████</td></tr><tr><td>val_loss</td><td>█▆▅▄▃▂▂▂▂▁▁▁▁▁▁</td></tr><tr><td>val_token_accuracy</td><td>▁▂▃▅▆▆▇▇▇▇█████</td></tr><tr><td>val_word_accuracy</td><td>▁▁▁▂▃▅▅▆▇▆▇▇▇██</td></tr></table><br/></div><div class=\"wandb-col\"><h3>Run summary:</h3><br/><table class=\"wandb\"><tr><td>epoch</td><td>15</td></tr><tr><td>train_loss</td><td>0.44334</td></tr><tr><td>train_token_accuracy</td><td>0.89022</td></tr><tr><td>val_loss</td><td>0.98237</td></tr><tr><td>val_token_accuracy</td><td>0.77143</td></tr><tr><td>val_word_accuracy</td><td>0.22059</td></tr></table><br/></div></div>"
      ],
      "text/plain": [
       "<IPython.core.display.HTML object>"
      ]
     },
     "metadata": {},
     "output_type": "display_data"
    },
    {
     "data": {
      "text/html": [
       " View run <strong style=\"color:#cdcd00\">cell_GRU/hid_128/emb_128/lay_2/lr_0.0001</strong> at: <a href='https://wandb.ai/navaneeth001/Assignment3/runs/3f8enbac' target=\"_blank\">https://wandb.ai/navaneeth001/Assignment3/runs/3f8enbac</a><br> View project at: <a href='https://wandb.ai/navaneeth001/Assignment3' target=\"_blank\">https://wandb.ai/navaneeth001/Assignment3</a><br>Synced 5 W&B file(s), 0 media file(s), 30 artifact file(s) and 0 other file(s)"
      ],
      "text/plain": [
       "<IPython.core.display.HTML object>"
      ]
     },
     "metadata": {},
     "output_type": "display_data"
    },
    {
     "data": {
      "text/html": [
       "Find logs at: <code>./wandb/run-20250520_152756-3f8enbac/logs</code>"
      ],
      "text/plain": [
       "<IPython.core.display.HTML object>"
      ]
     },
     "metadata": {},
     "output_type": "display_data"
    },
    {
     "name": "stderr",
     "output_type": "stream",
     "text": [
      "\u001b[34m\u001b[1mwandb\u001b[0m: Sweep Agent: Waiting for job.\n",
      "\u001b[34m\u001b[1mwandb\u001b[0m: Job received.\n",
      "\u001b[34m\u001b[1mwandb\u001b[0m: Agent Starting Run: ervo1spd with config:\n",
      "\u001b[34m\u001b[1mwandb\u001b[0m: \tbatch_size: 32\n",
      "\u001b[34m\u001b[1mwandb\u001b[0m: \tcell_type: LSTM\n",
      "\u001b[34m\u001b[1mwandb\u001b[0m: \temb_dim: 64\n",
      "\u001b[34m\u001b[1mwandb\u001b[0m: \tepochs: 10\n",
      "\u001b[34m\u001b[1mwandb\u001b[0m: \thidden_dim: 128\n",
      "\u001b[34m\u001b[1mwandb\u001b[0m: \tlr: 0.001\n",
      "\u001b[34m\u001b[1mwandb\u001b[0m: \tnum_layers: 1\n"
     ]
    },
    {
     "data": {
      "text/html": [
       "Tracking run with wandb version 0.19.8"
      ],
      "text/plain": [
       "<IPython.core.display.HTML object>"
      ]
     },
     "metadata": {},
     "output_type": "display_data"
    },
    {
     "data": {
      "text/html": [
       "Run data is saved locally in <code>/mnt/e_disk/DA6401_Assignment3/wandb/run-20250520_154559-ervo1spd</code>"
      ],
      "text/plain": [
       "<IPython.core.display.HTML object>"
      ]
     },
     "metadata": {},
     "output_type": "display_data"
    },
    {
     "data": {
      "text/html": [
       "Syncing run <strong><a href='https://wandb.ai/navaneeth001/Assignment3/runs/ervo1spd' target=\"_blank\">floral-sweep-10</a></strong> to <a href='https://wandb.ai/navaneeth001/Assignment3' target=\"_blank\">Weights & Biases</a> (<a href='https://wandb.me/developer-guide' target=\"_blank\">docs</a>)<br>Sweep page: <a href='https://wandb.ai/navaneeth001/Assignment3/sweeps/d7qd4jns' target=\"_blank\">https://wandb.ai/navaneeth001/Assignment3/sweeps/d7qd4jns</a>"
      ],
      "text/plain": [
       "<IPython.core.display.HTML object>"
      ]
     },
     "metadata": {},
     "output_type": "display_data"
    },
    {
     "data": {
      "text/html": [
       " View project at <a href='https://wandb.ai/navaneeth001/Assignment3' target=\"_blank\">https://wandb.ai/navaneeth001/Assignment3</a>"
      ],
      "text/plain": [
       "<IPython.core.display.HTML object>"
      ]
     },
     "metadata": {},
     "output_type": "display_data"
    },
    {
     "data": {
      "text/html": [
       " View sweep at <a href='https://wandb.ai/navaneeth001/Assignment3/sweeps/d7qd4jns' target=\"_blank\">https://wandb.ai/navaneeth001/Assignment3/sweeps/d7qd4jns</a>"
      ],
      "text/plain": [
       "<IPython.core.display.HTML object>"
      ]
     },
     "metadata": {},
     "output_type": "display_data"
    },
    {
     "data": {
      "text/html": [
       " View run at <a href='https://wandb.ai/navaneeth001/Assignment3/runs/ervo1spd' target=\"_blank\">https://wandb.ai/navaneeth001/Assignment3/runs/ervo1spd</a>"
      ],
      "text/plain": [
       "<IPython.core.display.HTML object>"
      ]
     },
     "metadata": {},
     "output_type": "display_data"
    },
    {
     "data": {
      "text/html": [],
      "text/plain": [
       "<IPython.core.display.HTML object>"
      ]
     },
     "metadata": {},
     "output_type": "display_data"
    },
    {
     "data": {
      "text/html": [
       "<br>    <style><br>        .wandb-row {<br>            display: flex;<br>            flex-direction: row;<br>            flex-wrap: wrap;<br>            justify-content: flex-start;<br>            width: 100%;<br>        }<br>        .wandb-col {<br>            display: flex;<br>            flex-direction: column;<br>            flex-basis: 100%;<br>            flex: 1;<br>            padding: 10px;<br>        }<br>    </style><br><div class=\"wandb-row\"><div class=\"wandb-col\"><h3>Run history:</h3><br/><table class=\"wandb\"><tr><td>epoch</td><td>▁▂▃▃▄▅▆▆▇█</td></tr><tr><td>train_loss</td><td>█▃▂▂▂▁▁▁▁▁</td></tr><tr><td>train_token_accuracy</td><td>▁▆▇▇▇█████</td></tr><tr><td>val_loss</td><td>█▃▂▁▁▂▁▂▂▂</td></tr><tr><td>val_token_accuracy</td><td>▁▅▇█▇██▇██</td></tr><tr><td>val_word_accuracy</td><td>▁▇█▇▆▇▄▄▄▃</td></tr></table><br/></div><div class=\"wandb-col\"><h3>Run summary:</h3><br/><table class=\"wandb\"><tr><td>epoch</td><td>10</td></tr><tr><td>train_loss</td><td>0.2902</td></tr><tr><td>train_token_accuracy</td><td>0.92941</td></tr><tr><td>val_loss</td><td>0.99454</td></tr><tr><td>val_token_accuracy</td><td>0.78744</td></tr><tr><td>val_word_accuracy</td><td>0.07353</td></tr></table><br/></div></div>"
      ],
      "text/plain": [
       "<IPython.core.display.HTML object>"
      ]
     },
     "metadata": {},
     "output_type": "display_data"
    },
    {
     "data": {
      "text/html": [
       " View run <strong style=\"color:#cdcd00\">cell_LSTM/hid_128/emb_64/lay_1/lr_0.001</strong> at: <a href='https://wandb.ai/navaneeth001/Assignment3/runs/ervo1spd' target=\"_blank\">https://wandb.ai/navaneeth001/Assignment3/runs/ervo1spd</a><br> View project at: <a href='https://wandb.ai/navaneeth001/Assignment3' target=\"_blank\">https://wandb.ai/navaneeth001/Assignment3</a><br>Synced 5 W&B file(s), 0 media file(s), 8 artifact file(s) and 0 other file(s)"
      ],
      "text/plain": [
       "<IPython.core.display.HTML object>"
      ]
     },
     "metadata": {},
     "output_type": "display_data"
    },
    {
     "data": {
      "text/html": [
       "Find logs at: <code>./wandb/run-20250520_154559-ervo1spd/logs</code>"
      ],
      "text/plain": [
       "<IPython.core.display.HTML object>"
      ]
     },
     "metadata": {},
     "output_type": "display_data"
    },
    {
     "name": "stderr",
     "output_type": "stream",
     "text": [
      "\u001b[34m\u001b[1mwandb\u001b[0m: Sweep Agent: Waiting for job.\n",
      "\u001b[34m\u001b[1mwandb\u001b[0m: Job received.\n",
      "\u001b[34m\u001b[1mwandb\u001b[0m: Agent Starting Run: fxurdz9z with config:\n",
      "\u001b[34m\u001b[1mwandb\u001b[0m: \tbatch_size: 32\n",
      "\u001b[34m\u001b[1mwandb\u001b[0m: \tcell_type: RNN\n",
      "\u001b[34m\u001b[1mwandb\u001b[0m: \temb_dim: 64\n",
      "\u001b[34m\u001b[1mwandb\u001b[0m: \tepochs: 10\n",
      "\u001b[34m\u001b[1mwandb\u001b[0m: \thidden_dim: 128\n",
      "\u001b[34m\u001b[1mwandb\u001b[0m: \tlr: 0.0001\n",
      "\u001b[34m\u001b[1mwandb\u001b[0m: \tnum_layers: 2\n"
     ]
    },
    {
     "data": {
      "text/html": [
       "Tracking run with wandb version 0.19.8"
      ],
      "text/plain": [
       "<IPython.core.display.HTML object>"
      ]
     },
     "metadata": {},
     "output_type": "display_data"
    },
    {
     "data": {
      "text/html": [
       "Run data is saved locally in <code>/mnt/e_disk/DA6401_Assignment3/wandb/run-20250520_155604-fxurdz9z</code>"
      ],
      "text/plain": [
       "<IPython.core.display.HTML object>"
      ]
     },
     "metadata": {},
     "output_type": "display_data"
    },
    {
     "data": {
      "text/html": [
       "Syncing run <strong><a href='https://wandb.ai/navaneeth001/Assignment3/runs/fxurdz9z' target=\"_blank\">cerulean-sweep-11</a></strong> to <a href='https://wandb.ai/navaneeth001/Assignment3' target=\"_blank\">Weights & Biases</a> (<a href='https://wandb.me/developer-guide' target=\"_blank\">docs</a>)<br>Sweep page: <a href='https://wandb.ai/navaneeth001/Assignment3/sweeps/d7qd4jns' target=\"_blank\">https://wandb.ai/navaneeth001/Assignment3/sweeps/d7qd4jns</a>"
      ],
      "text/plain": [
       "<IPython.core.display.HTML object>"
      ]
     },
     "metadata": {},
     "output_type": "display_data"
    },
    {
     "data": {
      "text/html": [
       " View project at <a href='https://wandb.ai/navaneeth001/Assignment3' target=\"_blank\">https://wandb.ai/navaneeth001/Assignment3</a>"
      ],
      "text/plain": [
       "<IPython.core.display.HTML object>"
      ]
     },
     "metadata": {},
     "output_type": "display_data"
    },
    {
     "data": {
      "text/html": [
       " View sweep at <a href='https://wandb.ai/navaneeth001/Assignment3/sweeps/d7qd4jns' target=\"_blank\">https://wandb.ai/navaneeth001/Assignment3/sweeps/d7qd4jns</a>"
      ],
      "text/plain": [
       "<IPython.core.display.HTML object>"
      ]
     },
     "metadata": {},
     "output_type": "display_data"
    },
    {
     "data": {
      "text/html": [
       " View run at <a href='https://wandb.ai/navaneeth001/Assignment3/runs/fxurdz9z' target=\"_blank\">https://wandb.ai/navaneeth001/Assignment3/runs/fxurdz9z</a>"
      ],
      "text/plain": [
       "<IPython.core.display.HTML object>"
      ]
     },
     "metadata": {},
     "output_type": "display_data"
    },
    {
     "data": {
      "text/html": [],
      "text/plain": [
       "<IPython.core.display.HTML object>"
      ]
     },
     "metadata": {},
     "output_type": "display_data"
    },
    {
     "data": {
      "text/html": [
       "<br>    <style><br>        .wandb-row {<br>            display: flex;<br>            flex-direction: row;<br>            flex-wrap: wrap;<br>            justify-content: flex-start;<br>            width: 100%;<br>        }<br>        .wandb-col {<br>            display: flex;<br>            flex-direction: column;<br>            flex-basis: 100%;<br>            flex: 1;<br>            padding: 10px;<br>        }<br>    </style><br><div class=\"wandb-row\"><div class=\"wandb-col\"><h3>Run history:</h3><br/><table class=\"wandb\"><tr><td>epoch</td><td>▁▂▃▃▄▅▆▆▇█</td></tr><tr><td>train_loss</td><td>█▄▃▂▂▂▁▁▁▁</td></tr><tr><td>train_token_accuracy</td><td>▁▅▆▆▇▇▇███</td></tr><tr><td>val_loss</td><td>█▇▇▇▇▅▂▇▆▁</td></tr><tr><td>val_token_accuracy</td><td>▆▁▁▁▂▆▆▅▁█</td></tr><tr><td>val_word_accuracy</td><td>▁▁▁▁▁▁▁▁▁▁</td></tr></table><br/></div><div class=\"wandb-col\"><h3>Run summary:</h3><br/><table class=\"wandb\"><tr><td>epoch</td><td>10</td></tr><tr><td>train_loss</td><td>2.20838</td></tr><tr><td>train_token_accuracy</td><td>0.35482</td></tr><tr><td>val_loss</td><td>2.72317</td></tr><tr><td>val_token_accuracy</td><td>0.20368</td></tr><tr><td>val_word_accuracy</td><td>0</td></tr></table><br/></div></div>"
      ],
      "text/plain": [
       "<IPython.core.display.HTML object>"
      ]
     },
     "metadata": {},
     "output_type": "display_data"
    },
    {
     "data": {
      "text/html": [
       " View run <strong style=\"color:#cdcd00\">cell_RNN/hid_128/emb_64/lay_2/lr_0.0001</strong> at: <a href='https://wandb.ai/navaneeth001/Assignment3/runs/fxurdz9z' target=\"_blank\">https://wandb.ai/navaneeth001/Assignment3/runs/fxurdz9z</a><br> View project at: <a href='https://wandb.ai/navaneeth001/Assignment3' target=\"_blank\">https://wandb.ai/navaneeth001/Assignment3</a><br>Synced 5 W&B file(s), 0 media file(s), 12 artifact file(s) and 0 other file(s)"
      ],
      "text/plain": [
       "<IPython.core.display.HTML object>"
      ]
     },
     "metadata": {},
     "output_type": "display_data"
    },
    {
     "data": {
      "text/html": [
       "Find logs at: <code>./wandb/run-20250520_155604-fxurdz9z/logs</code>"
      ],
      "text/plain": [
       "<IPython.core.display.HTML object>"
      ]
     },
     "metadata": {},
     "output_type": "display_data"
    },
    {
     "name": "stderr",
     "output_type": "stream",
     "text": [
      "\u001b[34m\u001b[1mwandb\u001b[0m: Agent Starting Run: sy9b7nci with config:\n",
      "\u001b[34m\u001b[1mwandb\u001b[0m: \tbatch_size: 32\n",
      "\u001b[34m\u001b[1mwandb\u001b[0m: \tcell_type: LSTM\n",
      "\u001b[34m\u001b[1mwandb\u001b[0m: \temb_dim: 128\n",
      "\u001b[34m\u001b[1mwandb\u001b[0m: \tepochs: 20\n",
      "\u001b[34m\u001b[1mwandb\u001b[0m: \thidden_dim: 256\n",
      "\u001b[34m\u001b[1mwandb\u001b[0m: \tlr: 0.0001\n",
      "\u001b[34m\u001b[1mwandb\u001b[0m: \tnum_layers: 2\n"
     ]
    },
    {
     "data": {
      "text/html": [
       "Tracking run with wandb version 0.19.8"
      ],
      "text/plain": [
       "<IPython.core.display.HTML object>"
      ]
     },
     "metadata": {},
     "output_type": "display_data"
    },
    {
     "data": {
      "text/html": [
       "Run data is saved locally in <code>/mnt/e_disk/DA6401_Assignment3/wandb/run-20250520_160626-sy9b7nci</code>"
      ],
      "text/plain": [
       "<IPython.core.display.HTML object>"
      ]
     },
     "metadata": {},
     "output_type": "display_data"
    },
    {
     "data": {
      "text/html": [
       "Syncing run <strong><a href='https://wandb.ai/navaneeth001/Assignment3/runs/sy9b7nci' target=\"_blank\">lemon-sweep-12</a></strong> to <a href='https://wandb.ai/navaneeth001/Assignment3' target=\"_blank\">Weights & Biases</a> (<a href='https://wandb.me/developer-guide' target=\"_blank\">docs</a>)<br>Sweep page: <a href='https://wandb.ai/navaneeth001/Assignment3/sweeps/d7qd4jns' target=\"_blank\">https://wandb.ai/navaneeth001/Assignment3/sweeps/d7qd4jns</a>"
      ],
      "text/plain": [
       "<IPython.core.display.HTML object>"
      ]
     },
     "metadata": {},
     "output_type": "display_data"
    },
    {
     "data": {
      "text/html": [
       " View project at <a href='https://wandb.ai/navaneeth001/Assignment3' target=\"_blank\">https://wandb.ai/navaneeth001/Assignment3</a>"
      ],
      "text/plain": [
       "<IPython.core.display.HTML object>"
      ]
     },
     "metadata": {},
     "output_type": "display_data"
    },
    {
     "data": {
      "text/html": [
       " View sweep at <a href='https://wandb.ai/navaneeth001/Assignment3/sweeps/d7qd4jns' target=\"_blank\">https://wandb.ai/navaneeth001/Assignment3/sweeps/d7qd4jns</a>"
      ],
      "text/plain": [
       "<IPython.core.display.HTML object>"
      ]
     },
     "metadata": {},
     "output_type": "display_data"
    },
    {
     "data": {
      "text/html": [
       " View run at <a href='https://wandb.ai/navaneeth001/Assignment3/runs/sy9b7nci' target=\"_blank\">https://wandb.ai/navaneeth001/Assignment3/runs/sy9b7nci</a>"
      ],
      "text/plain": [
       "<IPython.core.display.HTML object>"
      ]
     },
     "metadata": {},
     "output_type": "display_data"
    },
    {
     "data": {
      "text/html": [],
      "text/plain": [
       "<IPython.core.display.HTML object>"
      ]
     },
     "metadata": {},
     "output_type": "display_data"
    },
    {
     "data": {
      "text/html": [
       "<br>    <style><br>        .wandb-row {<br>            display: flex;<br>            flex-direction: row;<br>            flex-wrap: wrap;<br>            justify-content: flex-start;<br>            width: 100%;<br>        }<br>        .wandb-col {<br>            display: flex;<br>            flex-direction: column;<br>            flex-basis: 100%;<br>            flex: 1;<br>            padding: 10px;<br>        }<br>    </style><br><div class=\"wandb-row\"><div class=\"wandb-col\"><h3>Run history:</h3><br/><table class=\"wandb\"><tr><td>epoch</td><td>▁▁▂▂▂▃▃▄▄▄▅▅▅▆▆▇▇▇██</td></tr><tr><td>train_loss</td><td>█▅▃▃▂▂▂▂▂▂▁▁▁▁▁▁▁▁▁▁</td></tr><tr><td>train_token_accuracy</td><td>▁▄▆▆▇▇▇▇▇███████████</td></tr><tr><td>val_loss</td><td>█▅▃▂▂▁▁▁▁▁▁▁▁▁▁▂▁▂▂▂</td></tr><tr><td>val_token_accuracy</td><td>▁▄▆▇▇▇██████████████</td></tr><tr><td>val_word_accuracy</td><td>▁▃▅▅▆▇▇▇▇██████████▇</td></tr></table><br/></div><div class=\"wandb-col\"><h3>Run summary:</h3><br/><table class=\"wandb\"><tr><td>epoch</td><td>20</td></tr><tr><td>train_loss</td><td>0.14215</td></tr><tr><td>train_token_accuracy</td><td>0.96685</td></tr><tr><td>val_loss</td><td>0.96403</td></tr><tr><td>val_token_accuracy</td><td>0.81368</td></tr><tr><td>val_word_accuracy</td><td>0.35491</td></tr></table><br/></div></div>"
      ],
      "text/plain": [
       "<IPython.core.display.HTML object>"
      ]
     },
     "metadata": {},
     "output_type": "display_data"
    },
    {
     "data": {
      "text/html": [
       " View run <strong style=\"color:#cdcd00\">cell_LSTM/hid_256/emb_128/lay_2/lr_0.0001</strong> at: <a href='https://wandb.ai/navaneeth001/Assignment3/runs/sy9b7nci' target=\"_blank\">https://wandb.ai/navaneeth001/Assignment3/runs/sy9b7nci</a><br> View project at: <a href='https://wandb.ai/navaneeth001/Assignment3' target=\"_blank\">https://wandb.ai/navaneeth001/Assignment3</a><br>Synced 5 W&B file(s), 0 media file(s), 18 artifact file(s) and 0 other file(s)"
      ],
      "text/plain": [
       "<IPython.core.display.HTML object>"
      ]
     },
     "metadata": {},
     "output_type": "display_data"
    },
    {
     "data": {
      "text/html": [
       "Find logs at: <code>./wandb/run-20250520_160626-sy9b7nci/logs</code>"
      ],
      "text/plain": [
       "<IPython.core.display.HTML object>"
      ]
     },
     "metadata": {},
     "output_type": "display_data"
    },
    {
     "name": "stderr",
     "output_type": "stream",
     "text": [
      "\u001b[34m\u001b[1mwandb\u001b[0m: Agent Starting Run: g0ol908h with config:\n",
      "\u001b[34m\u001b[1mwandb\u001b[0m: \tbatch_size: 32\n",
      "\u001b[34m\u001b[1mwandb\u001b[0m: \tcell_type: RNN\n",
      "\u001b[34m\u001b[1mwandb\u001b[0m: \temb_dim: 128\n",
      "\u001b[34m\u001b[1mwandb\u001b[0m: \tepochs: 15\n",
      "\u001b[34m\u001b[1mwandb\u001b[0m: \thidden_dim: 256\n",
      "\u001b[34m\u001b[1mwandb\u001b[0m: \tlr: 0.001\n",
      "\u001b[34m\u001b[1mwandb\u001b[0m: \tnum_layers: 1\n"
     ]
    },
    {
     "data": {
      "text/html": [
       "Tracking run with wandb version 0.19.8"
      ],
      "text/plain": [
       "<IPython.core.display.HTML object>"
      ]
     },
     "metadata": {},
     "output_type": "display_data"
    },
    {
     "data": {
      "text/html": [
       "Run data is saved locally in <code>/mnt/e_disk/DA6401_Assignment3/wandb/run-20250520_163246-g0ol908h</code>"
      ],
      "text/plain": [
       "<IPython.core.display.HTML object>"
      ]
     },
     "metadata": {},
     "output_type": "display_data"
    },
    {
     "data": {
      "text/html": [
       "Syncing run <strong><a href='https://wandb.ai/navaneeth001/Assignment3/runs/g0ol908h' target=\"_blank\">effortless-sweep-13</a></strong> to <a href='https://wandb.ai/navaneeth001/Assignment3' target=\"_blank\">Weights & Biases</a> (<a href='https://wandb.me/developer-guide' target=\"_blank\">docs</a>)<br>Sweep page: <a href='https://wandb.ai/navaneeth001/Assignment3/sweeps/d7qd4jns' target=\"_blank\">https://wandb.ai/navaneeth001/Assignment3/sweeps/d7qd4jns</a>"
      ],
      "text/plain": [
       "<IPython.core.display.HTML object>"
      ]
     },
     "metadata": {},
     "output_type": "display_data"
    },
    {
     "data": {
      "text/html": [
       " View project at <a href='https://wandb.ai/navaneeth001/Assignment3' target=\"_blank\">https://wandb.ai/navaneeth001/Assignment3</a>"
      ],
      "text/plain": [
       "<IPython.core.display.HTML object>"
      ]
     },
     "metadata": {},
     "output_type": "display_data"
    },
    {
     "data": {
      "text/html": [
       " View sweep at <a href='https://wandb.ai/navaneeth001/Assignment3/sweeps/d7qd4jns' target=\"_blank\">https://wandb.ai/navaneeth001/Assignment3/sweeps/d7qd4jns</a>"
      ],
      "text/plain": [
       "<IPython.core.display.HTML object>"
      ]
     },
     "metadata": {},
     "output_type": "display_data"
    },
    {
     "data": {
      "text/html": [
       " View run at <a href='https://wandb.ai/navaneeth001/Assignment3/runs/g0ol908h' target=\"_blank\">https://wandb.ai/navaneeth001/Assignment3/runs/g0ol908h</a>"
      ],
      "text/plain": [
       "<IPython.core.display.HTML object>"
      ]
     },
     "metadata": {},
     "output_type": "display_data"
    },
    {
     "data": {
      "text/html": [],
      "text/plain": [
       "<IPython.core.display.HTML object>"
      ]
     },
     "metadata": {},
     "output_type": "display_data"
    },
    {
     "data": {
      "text/html": [
       "<br>    <style><br>        .wandb-row {<br>            display: flex;<br>            flex-direction: row;<br>            flex-wrap: wrap;<br>            justify-content: flex-start;<br>            width: 100%;<br>        }<br>        .wandb-col {<br>            display: flex;<br>            flex-direction: column;<br>            flex-basis: 100%;<br>            flex: 1;<br>            padding: 10px;<br>        }<br>    </style><br><div class=\"wandb-row\"><div class=\"wandb-col\"><h3>Run history:</h3><br/><table class=\"wandb\"><tr><td>epoch</td><td>▁▁▂▃▃▃▄▅▅▅▆▇▇▇█</td></tr><tr><td>train_loss</td><td>█▆▄▄▃▃▂▂▂▁▁▂▁▁▂</td></tr><tr><td>train_token_accuracy</td><td>▁▃▄▅▅▆▇▇▇█▇▇▇▇▇</td></tr><tr><td>val_loss</td><td>▃▇▄▄▃▂█▅▇▃▁▃▂▁▁</td></tr><tr><td>val_token_accuracy</td><td>▄▁▄▃▄▆▃▄▁▅▇▅▇▆█</td></tr><tr><td>val_word_accuracy</td><td>▁▁▁▁▁▁█▁▁▁▁▁▁▁▁</td></tr></table><br/></div><div class=\"wandb-col\"><h3>Run summary:</h3><br/><table class=\"wandb\"><tr><td>epoch</td><td>15</td></tr><tr><td>train_loss</td><td>2.21124</td></tr><tr><td>train_token_accuracy</td><td>0.35178</td></tr><tr><td>val_loss</td><td>2.87755</td></tr><tr><td>val_token_accuracy</td><td>0.19318</td></tr><tr><td>val_word_accuracy</td><td>0</td></tr></table><br/></div></div>"
      ],
      "text/plain": [
       "<IPython.core.display.HTML object>"
      ]
     },
     "metadata": {},
     "output_type": "display_data"
    },
    {
     "data": {
      "text/html": [
       " View run <strong style=\"color:#cdcd00\">cell_RNN/hid_256/emb_128/lay_1/lr_0.001</strong> at: <a href='https://wandb.ai/navaneeth001/Assignment3/runs/g0ol908h' target=\"_blank\">https://wandb.ai/navaneeth001/Assignment3/runs/g0ol908h</a><br> View project at: <a href='https://wandb.ai/navaneeth001/Assignment3' target=\"_blank\">https://wandb.ai/navaneeth001/Assignment3</a><br>Synced 5 W&B file(s), 0 media file(s), 8 artifact file(s) and 0 other file(s)"
      ],
      "text/plain": [
       "<IPython.core.display.HTML object>"
      ]
     },
     "metadata": {},
     "output_type": "display_data"
    },
    {
     "data": {
      "text/html": [
       "Find logs at: <code>./wandb/run-20250520_163246-g0ol908h/logs</code>"
      ],
      "text/plain": [
       "<IPython.core.display.HTML object>"
      ]
     },
     "metadata": {},
     "output_type": "display_data"
    },
    {
     "name": "stderr",
     "output_type": "stream",
     "text": [
      "\u001b[34m\u001b[1mwandb\u001b[0m: Agent Starting Run: 2xds1hqa with config:\n",
      "\u001b[34m\u001b[1mwandb\u001b[0m: \tbatch_size: 32\n",
      "\u001b[34m\u001b[1mwandb\u001b[0m: \tcell_type: LSTM\n",
      "\u001b[34m\u001b[1mwandb\u001b[0m: \temb_dim: 64\n",
      "\u001b[34m\u001b[1mwandb\u001b[0m: \tepochs: 10\n",
      "\u001b[34m\u001b[1mwandb\u001b[0m: \thidden_dim: 256\n",
      "\u001b[34m\u001b[1mwandb\u001b[0m: \tlr: 0.0001\n",
      "\u001b[34m\u001b[1mwandb\u001b[0m: \tnum_layers: 1\n"
     ]
    },
    {
     "data": {
      "text/html": [
       "Tracking run with wandb version 0.19.8"
      ],
      "text/plain": [
       "<IPython.core.display.HTML object>"
      ]
     },
     "metadata": {},
     "output_type": "display_data"
    },
    {
     "data": {
      "text/html": [
       "Run data is saved locally in <code>/mnt/e_disk/DA6401_Assignment3/wandb/run-20250520_164655-2xds1hqa</code>"
      ],
      "text/plain": [
       "<IPython.core.display.HTML object>"
      ]
     },
     "metadata": {},
     "output_type": "display_data"
    },
    {
     "data": {
      "text/html": [
       "Syncing run <strong><a href='https://wandb.ai/navaneeth001/Assignment3/runs/2xds1hqa' target=\"_blank\">decent-sweep-14</a></strong> to <a href='https://wandb.ai/navaneeth001/Assignment3' target=\"_blank\">Weights & Biases</a> (<a href='https://wandb.me/developer-guide' target=\"_blank\">docs</a>)<br>Sweep page: <a href='https://wandb.ai/navaneeth001/Assignment3/sweeps/d7qd4jns' target=\"_blank\">https://wandb.ai/navaneeth001/Assignment3/sweeps/d7qd4jns</a>"
      ],
      "text/plain": [
       "<IPython.core.display.HTML object>"
      ]
     },
     "metadata": {},
     "output_type": "display_data"
    },
    {
     "data": {
      "text/html": [
       " View project at <a href='https://wandb.ai/navaneeth001/Assignment3' target=\"_blank\">https://wandb.ai/navaneeth001/Assignment3</a>"
      ],
      "text/plain": [
       "<IPython.core.display.HTML object>"
      ]
     },
     "metadata": {},
     "output_type": "display_data"
    },
    {
     "data": {
      "text/html": [
       " View sweep at <a href='https://wandb.ai/navaneeth001/Assignment3/sweeps/d7qd4jns' target=\"_blank\">https://wandb.ai/navaneeth001/Assignment3/sweeps/d7qd4jns</a>"
      ],
      "text/plain": [
       "<IPython.core.display.HTML object>"
      ]
     },
     "metadata": {},
     "output_type": "display_data"
    },
    {
     "data": {
      "text/html": [
       " View run at <a href='https://wandb.ai/navaneeth001/Assignment3/runs/2xds1hqa' target=\"_blank\">https://wandb.ai/navaneeth001/Assignment3/runs/2xds1hqa</a>"
      ],
      "text/plain": [
       "<IPython.core.display.HTML object>"
      ]
     },
     "metadata": {},
     "output_type": "display_data"
    },
    {
     "data": {
      "text/html": [],
      "text/plain": [
       "<IPython.core.display.HTML object>"
      ]
     },
     "metadata": {},
     "output_type": "display_data"
    },
    {
     "data": {
      "text/html": [
       "<br>    <style><br>        .wandb-row {<br>            display: flex;<br>            flex-direction: row;<br>            flex-wrap: wrap;<br>            justify-content: flex-start;<br>            width: 100%;<br>        }<br>        .wandb-col {<br>            display: flex;<br>            flex-direction: column;<br>            flex-basis: 100%;<br>            flex: 1;<br>            padding: 10px;<br>        }<br>    </style><br><div class=\"wandb-row\"><div class=\"wandb-col\"><h3>Run history:</h3><br/><table class=\"wandb\"><tr><td>epoch</td><td>▁▂▃▃▄▅▆▆▇█</td></tr><tr><td>train_loss</td><td>█▆▄▃▂▂▂▁▁▁</td></tr><tr><td>train_token_accuracy</td><td>▁▃▅▆▇▇▇███</td></tr><tr><td>val_loss</td><td>█▆▅▃▂▂▂▁▁▁</td></tr><tr><td>val_token_accuracy</td><td>▁▃▄▆▆▇▇███</td></tr><tr><td>val_word_accuracy</td><td>▁▁▂▄▅▇▇▇██</td></tr></table><br/></div><div class=\"wandb-col\"><h3>Run summary:</h3><br/><table class=\"wandb\"><tr><td>epoch</td><td>10</td></tr><tr><td>train_loss</td><td>0.49973</td></tr><tr><td>train_token_accuracy</td><td>0.87212</td></tr><tr><td>val_loss</td><td>1.01247</td></tr><tr><td>val_token_accuracy</td><td>0.75105</td></tr><tr><td>val_word_accuracy</td><td>0.18573</td></tr></table><br/></div></div>"
      ],
      "text/plain": [
       "<IPython.core.display.HTML object>"
      ]
     },
     "metadata": {},
     "output_type": "display_data"
    },
    {
     "data": {
      "text/html": [
       " View run <strong style=\"color:#cdcd00\">cell_LSTM/hid_256/emb_64/lay_1/lr_0.0001</strong> at: <a href='https://wandb.ai/navaneeth001/Assignment3/runs/2xds1hqa' target=\"_blank\">https://wandb.ai/navaneeth001/Assignment3/runs/2xds1hqa</a><br> View project at: <a href='https://wandb.ai/navaneeth001/Assignment3' target=\"_blank\">https://wandb.ai/navaneeth001/Assignment3</a><br>Synced 5 W&B file(s), 0 media file(s), 20 artifact file(s) and 0 other file(s)"
      ],
      "text/plain": [
       "<IPython.core.display.HTML object>"
      ]
     },
     "metadata": {},
     "output_type": "display_data"
    },
    {
     "data": {
      "text/html": [
       "Find logs at: <code>./wandb/run-20250520_164655-2xds1hqa/logs</code>"
      ],
      "text/plain": [
       "<IPython.core.display.HTML object>"
      ]
     },
     "metadata": {},
     "output_type": "display_data"
    },
    {
     "name": "stderr",
     "output_type": "stream",
     "text": [
      "\u001b[34m\u001b[1mwandb\u001b[0m: Sweep Agent: Waiting for job.\n",
      "\u001b[34m\u001b[1mwandb\u001b[0m: Job received.\n",
      "\u001b[34m\u001b[1mwandb\u001b[0m: Agent Starting Run: ejcmr1mq with config:\n",
      "\u001b[34m\u001b[1mwandb\u001b[0m: \tbatch_size: 64\n",
      "\u001b[34m\u001b[1mwandb\u001b[0m: \tcell_type: RNN\n",
      "\u001b[34m\u001b[1mwandb\u001b[0m: \temb_dim: 64\n",
      "\u001b[34m\u001b[1mwandb\u001b[0m: \tepochs: 20\n",
      "\u001b[34m\u001b[1mwandb\u001b[0m: \thidden_dim: 128\n",
      "\u001b[34m\u001b[1mwandb\u001b[0m: \tlr: 0.0001\n",
      "\u001b[34m\u001b[1mwandb\u001b[0m: \tnum_layers: 2\n"
     ]
    },
    {
     "data": {
      "text/html": [
       "Tracking run with wandb version 0.19.8"
      ],
      "text/plain": [
       "<IPython.core.display.HTML object>"
      ]
     },
     "metadata": {},
     "output_type": "display_data"
    },
    {
     "data": {
      "text/html": [
       "Run data is saved locally in <code>/mnt/e_disk/DA6401_Assignment3/wandb/run-20250520_165805-ejcmr1mq</code>"
      ],
      "text/plain": [
       "<IPython.core.display.HTML object>"
      ]
     },
     "metadata": {},
     "output_type": "display_data"
    },
    {
     "data": {
      "text/html": [
       "Syncing run <strong><a href='https://wandb.ai/navaneeth001/Assignment3/runs/ejcmr1mq' target=\"_blank\">soft-sweep-15</a></strong> to <a href='https://wandb.ai/navaneeth001/Assignment3' target=\"_blank\">Weights & Biases</a> (<a href='https://wandb.me/developer-guide' target=\"_blank\">docs</a>)<br>Sweep page: <a href='https://wandb.ai/navaneeth001/Assignment3/sweeps/d7qd4jns' target=\"_blank\">https://wandb.ai/navaneeth001/Assignment3/sweeps/d7qd4jns</a>"
      ],
      "text/plain": [
       "<IPython.core.display.HTML object>"
      ]
     },
     "metadata": {},
     "output_type": "display_data"
    },
    {
     "data": {
      "text/html": [
       " View project at <a href='https://wandb.ai/navaneeth001/Assignment3' target=\"_blank\">https://wandb.ai/navaneeth001/Assignment3</a>"
      ],
      "text/plain": [
       "<IPython.core.display.HTML object>"
      ]
     },
     "metadata": {},
     "output_type": "display_data"
    },
    {
     "data": {
      "text/html": [
       " View sweep at <a href='https://wandb.ai/navaneeth001/Assignment3/sweeps/d7qd4jns' target=\"_blank\">https://wandb.ai/navaneeth001/Assignment3/sweeps/d7qd4jns</a>"
      ],
      "text/plain": [
       "<IPython.core.display.HTML object>"
      ]
     },
     "metadata": {},
     "output_type": "display_data"
    },
    {
     "data": {
      "text/html": [
       " View run at <a href='https://wandb.ai/navaneeth001/Assignment3/runs/ejcmr1mq' target=\"_blank\">https://wandb.ai/navaneeth001/Assignment3/runs/ejcmr1mq</a>"
      ],
      "text/plain": [
       "<IPython.core.display.HTML object>"
      ]
     },
     "metadata": {},
     "output_type": "display_data"
    },
    {
     "data": {
      "text/html": [],
      "text/plain": [
       "<IPython.core.display.HTML object>"
      ]
     },
     "metadata": {},
     "output_type": "display_data"
    },
    {
     "data": {
      "text/html": [
       "<br>    <style><br>        .wandb-row {<br>            display: flex;<br>            flex-direction: row;<br>            flex-wrap: wrap;<br>            justify-content: flex-start;<br>            width: 100%;<br>        }<br>        .wandb-col {<br>            display: flex;<br>            flex-direction: column;<br>            flex-basis: 100%;<br>            flex: 1;<br>            padding: 10px;<br>        }<br>    </style><br><div class=\"wandb-row\"><div class=\"wandb-col\"><h3>Run history:</h3><br/><table class=\"wandb\"><tr><td>epoch</td><td>▁▁▂▂▂▃▃▄▄▄▅▅▅▆▆▇▇▇██</td></tr><tr><td>train_loss</td><td>█▄▃▃▃▂▂▂▂▂▂▂▁▁▁▁▁▁▁▁</td></tr><tr><td>train_token_accuracy</td><td>▁▄▅▆▆▆▇▇▇▇▇▇▇▇██████</td></tr><tr><td>val_loss</td><td>█▃▂▁▂▃▁▂▃▂▃▂▂▂▂▂▂▃▁▂</td></tr><tr><td>val_token_accuracy</td><td>▁▆██▇▅▆▆▅▆▇▆▆▇▆▇▆▆▇▇</td></tr><tr><td>val_word_accuracy</td><td>▁▁▁▁▁▁▁▁▁▁▁▁▁▁▁▁▁▁▁▁</td></tr></table><br/></div><div class=\"wandb-col\"><h3>Run summary:</h3><br/><table class=\"wandb\"><tr><td>epoch</td><td>20</td></tr><tr><td>train_loss</td><td>2.17355</td></tr><tr><td>train_token_accuracy</td><td>0.36532</td></tr><tr><td>val_loss</td><td>2.74819</td></tr><tr><td>val_token_accuracy</td><td>0.1999</td></tr><tr><td>val_word_accuracy</td><td>0</td></tr></table><br/></div></div>"
      ],
      "text/plain": [
       "<IPython.core.display.HTML object>"
      ]
     },
     "metadata": {},
     "output_type": "display_data"
    },
    {
     "data": {
      "text/html": [
       " View run <strong style=\"color:#cdcd00\">cell_RNN/hid_128/emb_64/lay_2/lr_0.0001</strong> at: <a href='https://wandb.ai/navaneeth001/Assignment3/runs/ejcmr1mq' target=\"_blank\">https://wandb.ai/navaneeth001/Assignment3/runs/ejcmr1mq</a><br> View project at: <a href='https://wandb.ai/navaneeth001/Assignment3' target=\"_blank\">https://wandb.ai/navaneeth001/Assignment3</a><br>Synced 5 W&B file(s), 0 media file(s), 8 artifact file(s) and 0 other file(s)"
      ],
      "text/plain": [
       "<IPython.core.display.HTML object>"
      ]
     },
     "metadata": {},
     "output_type": "display_data"
    },
    {
     "data": {
      "text/html": [
       "Find logs at: <code>./wandb/run-20250520_165805-ejcmr1mq/logs</code>"
      ],
      "text/plain": [
       "<IPython.core.display.HTML object>"
      ]
     },
     "metadata": {},
     "output_type": "display_data"
    }
   ],
   "source": [
    "import os\n",
    "import torch\n",
    "import torch.nn as nn\n",
    "import torch.nn.functional as F\n",
    "import torch.optim as opt\n",
    "import wandb\n",
    "from torch.utils.data import DataLoader, Dataset\n",
    "\n",
    "# Define Encoder\n",
    "class Encoder(nn.Module):\n",
    "    def __init__(self, input_dim, emb_dim, hidden_dim, num_layers, cell_type):\n",
    "        super(Encoder, self).__init__()\n",
    "        self.embedding = nn.Embedding(input_dim, emb_dim)\n",
    "        self.rnn = getattr(nn, cell_type.upper())(emb_dim, hidden_dim, num_layers, batch_first=True)\n",
    "\n",
    "    def forward(self, src):\n",
    "        embedded = self.embedding(src)\n",
    "        outputs, hidden = self.rnn(embedded)\n",
    "        return hidden\n",
    "\n",
    "# Define Decoder\n",
    "class Decoder(nn.Module):\n",
    "    def __init__(self, output_dim, emb_dim, hidden_dim, num_layers, cell_type):\n",
    "        super(Decoder, self).__init__()\n",
    "        self.embedding = nn.Embedding(output_dim, emb_dim)\n",
    "        self.rnn = getattr(nn, cell_type.upper())(emb_dim, hidden_dim, num_layers, batch_first=True)\n",
    "        self.fc_out = nn.Linear(hidden_dim, output_dim)\n",
    "\n",
    "    def forward(self, input, hidden):\n",
    "        if input.dim() == 1:\n",
    "            input = input.unsqueeze(1)\n",
    "        embedded = self.embedding(input)\n",
    "        output, hidden = self.rnn(embedded, hidden)\n",
    "        prediction = self.fc_out(output.squeeze(1))\n",
    "        return prediction, hidden\n",
    "\n",
    "# Define Seq2Seq\n",
    "class Seq2Seq(nn.Module):\n",
    "    def __init__(self, encoder, decoder, device):\n",
    "        super(Seq2Seq, self).__init__()\n",
    "        self.encoder = encoder\n",
    "        self.decoder = decoder\n",
    "        self.device = device\n",
    "\n",
    "    def forward(self, src, trg, teacher_forcing_ratio=0.5):\n",
    "        batch_size, trg_len = trg.shape\n",
    "        output_dim = self.decoder.fc_out.out_features\n",
    "        outputs = torch.zeros(batch_size, trg_len, output_dim).to(self.device)\n",
    "\n",
    "        hidden = self.encoder(src)\n",
    "        input = trg[:, 0]  # <sos>\n",
    "\n",
    "        for t in range(1, trg_len):\n",
    "            output, hidden = self.decoder(input, hidden)\n",
    "            outputs[:, t] = output\n",
    "            teacher_force = torch.rand(1).item() < teacher_forcing_ratio\n",
    "            input = trg[:, t] if teacher_force else output.argmax(1)\n",
    "\n",
    "        return outputs\n",
    "\n",
    "def trim_eos(seq, eos_idx):\n",
    "    seq = seq.tolist()\n",
    "    if eos_idx in seq:\n",
    "        return seq[:seq.index(eos_idx)]\n",
    "    return seq\n",
    "\n",
    "def evaluate(model, input_seq, eos_idx, device):\n",
    "    model.eval()\n",
    "    with torch.no_grad():\n",
    "        hidden = model.encoder(input_seq.unsqueeze(0))\n",
    "        input_token = input_seq[0].view(1) # <sos>\n",
    "        decoded = []\n",
    "\n",
    "        for _ in range(input_seq.shape[0]):\n",
    "            output, hidden = model.decoder(input_token, hidden)\n",
    "            top1 = output.argmax(1)\n",
    "            if top1.item() == eos_idx:\n",
    "                break\n",
    "            decoded.append(top1.item())\n",
    "            input_token = top1.unsqueeze(0)\n",
    "\n",
    "    return decoded\n",
    "\n",
    "def calc_word_accuracy(model, loader, eos_idx, device):\n",
    "    correct = 0\n",
    "    total = 0\n",
    "    model.eval()\n",
    "    with torch.no_grad():\n",
    "        for src, tgt in loader:\n",
    "            src, tgt = src.to(device), tgt.to(device)\n",
    "            for i in range(src.size(0)):\n",
    "                pred_seq = evaluate(model, src[i], eos_idx, device)\n",
    "                true_seq = trim_eos(tgt[i][1:], eos_idx)\n",
    "                if pred_seq == true_seq:\n",
    "                    correct += 1\n",
    "                total += 1\n",
    "    return correct / total if total > 0 else 0\n",
    "\n",
    "def train_model(config=None):\n",
    "    with wandb.init(config=config):\n",
    "        config = wandb.config\n",
    "        wandb.run.name = f\"cell_{config.cell_type}/hid_{config.hidden_dim}/emb_{config.emb_dim}/lay_{config.num_layers}/lr_{config.lr}\"\n",
    "\n",
    "        device = 'cuda' if torch.cuda.is_available() else 'cpu'\n",
    "\n",
    "        train_loader = DataLoader(train_ds, batch_size=config.batch_size, shuffle=True, collate_fn=pad_batch)\n",
    "        dev_loader   = DataLoader(dev_ds, batch_size=config.batch_size, shuffle=False, collate_fn=pad_batch)\n",
    "\n",
    "        vocab_size_input = len(roman2idx)\n",
    "        vocab_size_output = len(dev2idx)\n",
    "\n",
    "        encoder = Encoder(vocab_size_input, config.emb_dim, config.hidden_dim, config.num_layers, config.cell_type)\n",
    "        decoder = Decoder(vocab_size_output, config.emb_dim, config.hidden_dim, config.num_layers, config.cell_type)\n",
    "        model = Seq2Seq(encoder, decoder, device).to(device)\n",
    "\n",
    "        optimizer = opt.Adam(model.parameters(), lr=config.lr)\n",
    "        criterion = nn.CrossEntropyLoss(ignore_index=dev2idx[\"<pad>\"])\n",
    "\n",
    "        best_val_loss = float('inf')\n",
    "        save_path = os.path.join(wandb.run.dir, 'best_model.pth')\n",
    "        eos_idx = dev2idx[\"<eos>\"]\n",
    "\n",
    "        for epoch in range(config.epochs):\n",
    "            model.train()\n",
    "            train_loss = 0\n",
    "            token_correct = 0\n",
    "            token_total = 0\n",
    "\n",
    "            for src, tgt in train_loader:\n",
    "                src, tgt = src.to(device), tgt.to(device)\n",
    "                optimizer.zero_grad()\n",
    "                output = model(src, tgt, teacher_forcing_ratio=0.5)\n",
    "\n",
    "                output_flat = output[:, 1:].reshape(-1, vocab_size_output)\n",
    "                tgt_flat = tgt[:, 1:].reshape(-1)\n",
    "                loss = criterion(output_flat, tgt_flat)\n",
    "                loss.backward()\n",
    "                optimizer.step()\n",
    "\n",
    "                train_loss += loss.item() * src.size(0)\n",
    "\n",
    "                preds = output_flat.argmax(1)\n",
    "                mask = tgt_flat != dev2idx[\"<pad>\"]\n",
    "                token_correct += ((preds == tgt_flat) & mask).sum().item()\n",
    "                token_total += mask.sum().item()\n",
    "\n",
    "            train_loss /= len(train_ds)\n",
    "            train_token_acc = token_correct / token_total if token_total > 0 else 0\n",
    "            # train_word_acc = calc_word_accuracy(model, train_loader, eos_idx, device)\n",
    "\n",
    "            val_loss = 0\n",
    "            val_token_correct = 0\n",
    "            val_token_total = 0\n",
    "\n",
    "            model.eval()\n",
    "            with torch.no_grad():\n",
    "                for src, tgt in dev_loader:\n",
    "                    src, tgt = src.to(device), tgt.to(device)\n",
    "                    output = model(src, tgt, teacher_forcing_ratio=0.0)\n",
    "\n",
    "                    output_flat = output[:, 1:].reshape(-1, vocab_size_output)\n",
    "                    tgt_flat = tgt[:, 1:].reshape(-1)\n",
    "                    loss = criterion(output_flat, tgt_flat)\n",
    "                    val_loss += loss.item() * src.size(0)\n",
    "\n",
    "                    preds = output_flat.argmax(1)\n",
    "                    mask = tgt_flat != dev2idx[\"<pad>\"]\n",
    "                    val_token_correct += ((preds == tgt_flat) & mask).sum().item()\n",
    "                    val_token_total += mask.sum().item()\n",
    "\n",
    "            val_loss /= len(dev_ds)\n",
    "            val_token_acc = val_token_correct / val_token_total if val_token_total > 0 else 0\n",
    "            val_word_acc = calc_word_accuracy(model, dev_loader, eos_idx, device)\n",
    "\n",
    "            if val_loss < best_val_loss:\n",
    "                best_val_loss = val_loss\n",
    "                torch.save(model.state_dict(), save_path)\n",
    "                artifact = wandb.Artifact('best-model', type='model')\n",
    "                artifact.add_file(save_path)\n",
    "                wandb.log_artifact(artifact)\n",
    "\n",
    "            wandb.log({\n",
    "                'epoch': epoch + 1,\n",
    "                'train_loss': train_loss,\n",
    "                'val_loss': val_loss,\n",
    "                'train_token_accuracy': train_token_acc,\n",
    "                # 'train_word_accuracy': train_word_acc,\n",
    "                'val_token_accuracy': val_token_acc,\n",
    "                'val_word_accuracy': val_word_acc\n",
    "            })\n",
    "\n",
    "# Sweep config\n",
    "sweep_config = {\n",
    "    'method': 'bayes',\n",
    "    'metric': {'name': 'val_loss', 'goal': 'minimize'},\n",
    "    'parameters': {\n",
    "        'epochs': {'values': [10, 15, 20]},\n",
    "        'emb_dim': {'values': [64, 128]},\n",
    "        'hidden_dim': {'values': [128, 256]},\n",
    "        'num_layers': {'values': [1, 2]},\n",
    "        'cell_type': {'values': ['RNN', 'GRU', 'LSTM']},\n",
    "        'lr': {'values': [1e-3, 1e-4]},\n",
    "        'batch_size': {'values': [32, 64]}\n",
    "    }\n",
    "}\n",
    "\n",
    "sweep_id = wandb.sweep(sweep_config, project='Assignment3')\n",
    "wandb.agent(sweep_id, function=train_model, count=15)\n"
   ]
  },
  {
   "cell_type": "markdown",
   "id": "01a59b3e",
   "metadata": {},
   "source": [
    "# Question 3 (15 Marks)\n",
    "Based on the above plots write down some insightful observations. For example, \n",
    "- RNN based model takes longer time to converge than GRU or LSTM\n",
    "- using smaller sizes for the hidden layer does not give good results\n",
    "- dropout leads to better performance "
   ]
  },
  {
   "cell_type": "markdown",
   "id": "f05bfd19",
   "metadata": {},
   "source": [
    "# Question 4 (10 Marks)\n",
    "\n",
    "You will now apply your best model on the test data (You shouldn't have used test data so far. All the above experiments should have been done using train and val data only). \n",
    "\n",
    "(a) Use the best model from your sweep and report the accuracy on the test set (the output is correct only if it exactly matches the reference output). \n",
    "\n",
    "(b) Provide sample inputs from the test data and predictions made by your best model (more marks for presenting this grid creatively). Also upload all the predictions on the test set in a folder **predictions_vanilla** on your github project.\n",
    "\n",
    "(c) Comment on the errors made by your model (simple insightful bullet points)\n",
    "\n",
    "- The model makes more errors on consonants than vowels\n",
    "- The model makes more errors on longer sequences\n",
    "- I am thinking confusion matrix but may be it's just me!"
   ]
  },
  {
   "cell_type": "code",
   "execution_count": null,
   "id": "61ff0197",
   "metadata": {},
   "outputs": [
    {
     "data": {
      "text/html": [
       "Changes to your `wandb` environment variables will be ignored because your `wandb` session has already started. For more information on how to modify your settings with `wandb.init()` arguments, please refer to <a href='https://wandb.me/wandb-init' target=\"_blank\">the W&B docs</a>."
      ],
      "text/plain": [
       "<IPython.core.display.HTML object>"
      ]
     },
     "metadata": {},
     "output_type": "display_data"
    },
    {
     "data": {
      "text/html": [
       "Ignoring project 'Assignment3' when running a sweep."
      ],
      "text/plain": [
       "<IPython.core.display.HTML object>"
      ]
     },
     "metadata": {},
     "output_type": "display_data"
    },
    {
     "data": {
      "text/html": [
       "Ignoring entity 'navaneeth001' when running a sweep."
      ],
      "text/plain": [
       "<IPython.core.display.HTML object>"
      ]
     },
     "metadata": {},
     "output_type": "display_data"
    },
    {
     "data": {
      "text/html": [
       "Tracking run with wandb version 0.19.8"
      ],
      "text/plain": [
       "<IPython.core.display.HTML object>"
      ]
     },
     "metadata": {},
     "output_type": "display_data"
    },
    {
     "data": {
      "text/html": [
       "Run data is saved locally in <code>/mnt/e_disk/DA6401_Assignment3/wandb/run-20250520_193151-ejcmr1mq</code>"
      ],
      "text/plain": [
       "<IPython.core.display.HTML object>"
      ]
     },
     "metadata": {},
     "output_type": "display_data"
    },
    {
     "data": {
      "text/html": [
       "Syncing run <strong><a href='https://wandb.ai/navaneeth001/Assignment3/runs/ejcmr1mq' target=\"_blank\">cell_RNN/hid_128/emb_64/lay_2/lr_0.0001</a></strong> to <a href='https://wandb.ai/navaneeth001/Assignment3' target=\"_blank\">Weights & Biases</a> (<a href='https://wandb.me/developer-guide' target=\"_blank\">docs</a>)<br>Sweep page: <a href='https://wandb.ai/navaneeth001/Assignment3/sweeps/d7qd4jns' target=\"_blank\">https://wandb.ai/navaneeth001/Assignment3/sweeps/d7qd4jns</a>"
      ],
      "text/plain": [
       "<IPython.core.display.HTML object>"
      ]
     },
     "metadata": {},
     "output_type": "display_data"
    },
    {
     "data": {
      "text/html": [
       " View project at <a href='https://wandb.ai/navaneeth001/Assignment3' target=\"_blank\">https://wandb.ai/navaneeth001/Assignment3</a>"
      ],
      "text/plain": [
       "<IPython.core.display.HTML object>"
      ]
     },
     "metadata": {},
     "output_type": "display_data"
    },
    {
     "data": {
      "text/html": [
       " View sweep at <a href='https://wandb.ai/navaneeth001/Assignment3/sweeps/d7qd4jns' target=\"_blank\">https://wandb.ai/navaneeth001/Assignment3/sweeps/d7qd4jns</a>"
      ],
      "text/plain": [
       "<IPython.core.display.HTML object>"
      ]
     },
     "metadata": {},
     "output_type": "display_data"
    },
    {
     "data": {
      "text/html": [
       " View run at <a href='https://wandb.ai/navaneeth001/Assignment3/runs/ejcmr1mq' target=\"_blank\">https://wandb.ai/navaneeth001/Assignment3/runs/ejcmr1mq</a>"
      ],
      "text/plain": [
       "<IPython.core.display.HTML object>"
      ]
     },
     "metadata": {},
     "output_type": "display_data"
    },
    {
     "name": "stderr",
     "output_type": "stream",
     "text": [
      "\u001b[34m\u001b[1mwandb\u001b[0m:   1 of 1 files downloaded.  \n"
     ]
    },
    {
     "name": "stdout",
     "output_type": "stream",
     "text": [
      "Loaded model artifact to: /mnt/e_disk/DA6401_Assignment3/artifacts/best-model:v151/best_model.pth\n"
     ]
    },
    {
     "name": "stderr",
     "output_type": "stream",
     "text": [
      "Evaluating: 100%|██████████| 108/108 [00:03<00:00, 35.65it/s]"
     ]
    },
    {
     "name": "stdout",
     "output_type": "stream",
     "text": [
      "Test Token Accuracy: 78.06%\n",
      "Test Word Accuracy:  45.00%\n",
      "Saved predictions to /mnt/e_disk/DA6401_Assignment3/predictions_vannila/test_predictions.csv\n"
     ]
    },
    {
     "name": "stderr",
     "output_type": "stream",
     "text": [
      "\n"
     ]
    },
    {
     "data": {
      "text/html": [],
      "text/plain": [
       "<IPython.core.display.HTML object>"
      ]
     },
     "metadata": {},
     "output_type": "display_data"
    },
    {
     "data": {
      "text/html": [
       "<br>    <style><br>        .wandb-row {<br>            display: flex;<br>            flex-direction: row;<br>            flex-wrap: wrap;<br>            justify-content: flex-start;<br>            width: 100%;<br>        }<br>        .wandb-col {<br>            display: flex;<br>            flex-direction: column;<br>            flex-basis: 100%;<br>            flex: 1;<br>            padding: 10px;<br>        }<br>    </style><br><div class=\"wandb-row\"><div class=\"wandb-col\"><h3>Run history:</h3><br/><table class=\"wandb\"><tr><td>test_token_accuracy</td><td>▁</td></tr><tr><td>test_word_accuracy</td><td>▁</td></tr></table><br/></div><div class=\"wandb-col\"><h3>Run summary:</h3><br/><table class=\"wandb\"><tr><td>test_token_accuracy</td><td>78.06337</td></tr><tr><td>test_word_accuracy</td><td>45.00291</td></tr></table><br/></div></div>"
      ],
      "text/plain": [
       "<IPython.core.display.HTML object>"
      ]
     },
     "metadata": {},
     "output_type": "display_data"
    },
    {
     "data": {
      "text/html": [
       " View run <strong style=\"color:#cdcd00\">cell_RNN/hid_128/emb_64/lay_2/lr_0.0001</strong> at: <a href='https://wandb.ai/navaneeth001/Assignment3/runs/ejcmr1mq' target=\"_blank\">https://wandb.ai/navaneeth001/Assignment3/runs/ejcmr1mq</a><br> View project at: <a href='https://wandb.ai/navaneeth001/Assignment3' target=\"_blank\">https://wandb.ai/navaneeth001/Assignment3</a><br>Synced 5 W&B file(s), 0 media file(s), 0 artifact file(s) and 0 other file(s)"
      ],
      "text/plain": [
       "<IPython.core.display.HTML object>"
      ]
     },
     "metadata": {},
     "output_type": "display_data"
    },
    {
     "data": {
      "text/html": [
       "Find logs at: <code>./wandb/run-20250520_193151-ejcmr1mq/logs</code>"
      ],
      "text/plain": [
       "<IPython.core.display.HTML object>"
      ]
     },
     "metadata": {},
     "output_type": "display_data"
    }
   ],
   "source": [
    "import os\n",
    "import csv\n",
    "import torch\n",
    "import wandb\n",
    "from wandb import Api\n",
    "from torch.utils.data import DataLoader\n",
    "from tqdm import tqdm\n",
    "\n",
    "# === START === \n",
    "\n",
    "ENTITY     = 'navaneeth001'\n",
    "PROJECT    = 'Assignment3'\n",
    "SWEEP_ID   = 'd7qd4jns'  # ❗ Replace this with actual sweep ID\n",
    "ARTIFACT_REF = 'navaneeth001/Assignment3/best-model:v151'\n",
    "OUTPUT_DIR = '/mnt/e_disk/DA6401_Assignment3/predictions_vannila'\n",
    "CSV_PATH   = os.path.join(OUTPUT_DIR, 'test_predictions.csv')\n",
    "\n",
    "# === Load best model config from sweep ===\n",
    "api      = Api()\n",
    "sweep    = api.sweep(f\"{ENTITY}/{PROJECT}/{SWEEP_ID}\")\n",
    "runs     = sweep.runs\n",
    "best_run = min(runs, key=lambda r: r.summary.get('val_loss', float('inf')))\n",
    "cfg      = best_run.config\n",
    "\n",
    "eval_run = wandb.init(\n",
    "    project=PROJECT,\n",
    "    entity=ENTITY,\n",
    "    job_type='evaluation'\n",
    ")\n",
    "artifact     = eval_run.use_artifact(ARTIFACT_REF, type='model')\n",
    "download_dir = artifact.download()\n",
    "\n",
    "# === END === \n",
    "\n",
    "model_path   = os.path.join(download_dir, 'best_model.pth') # YOU MAY COPY PASTE THE PATH DIRECTLY FROM THE ARTIFACTS FOLDER IN THIS REPO\n",
    "print(f\"Loaded model artifact to: {model_path}\")\n",
    "\n",
    "# === Load model ===\n",
    "device = 'cuda' if torch.cuda.is_available() else 'cpu'\n",
    "\n",
    "encoder = Encoder(\n",
    "    input_dim=len(roman2idx),\n",
    "    emb_dim=cfg['emb_dim'],\n",
    "    hidden_dim=cfg['hidden_dim'],\n",
    "    num_layers=cfg['num_layers'],\n",
    "    cell_type=cfg['cell_type']\n",
    ")\n",
    "\n",
    "decoder = Decoder(\n",
    "    output_dim=len(dev2idx),\n",
    "    emb_dim=cfg['emb_dim'],\n",
    "    hidden_dim=cfg['hidden_dim'],\n",
    "    num_layers=cfg['num_layers'],\n",
    "    cell_type=cfg['cell_type']\n",
    ")\n",
    "\n",
    "def decode(indices, idx2char, eos_idx=None):\n",
    "    chars = []\n",
    "    for idx in indices:\n",
    "        idx = idx.item()\n",
    "        if eos_idx is not None and idx == eos_idx:\n",
    "            break\n",
    "        if 0 <= idx < len(idx2char):\n",
    "            chars.append(idx2char[idx])\n",
    "    return ''.join(chars)\n",
    "\n",
    "\n",
    "\n",
    "model = Seq2Seq(encoder, decoder, device).to(device)\n",
    "state = torch.load(model_path, map_location=device)\n",
    "model.load_state_dict(state)\n",
    "model.eval()\n",
    "\n",
    "# === Prepare test data ===\n",
    "test_loader = DataLoader(test_ds, batch_size=cfg['batch_size'], shuffle=False, collate_fn=pad_batch)\n",
    "eos_idx     = dev2idx['<eos>']\n",
    "pad_idx     = dev2idx['<pad>']\n",
    "\n",
    "# === Evaluation ===\n",
    "token_correct = 0\n",
    "token_total   = 0\n",
    "word_correct  = 0\n",
    "word_total    = 0\n",
    "\n",
    "# Prepare folder and file for saving predictions\n",
    "os.makedirs(OUTPUT_DIR, exist_ok=True)\n",
    "pred_rows = [[\"Input\", \"Target\", \"Prediction\"]]\n",
    "\n",
    "with torch.no_grad():\n",
    "    for src, tgt in tqdm(test_loader, desc=\"Evaluating\"):\n",
    "        src, tgt = src.to(device), tgt.to(device)\n",
    "        output = model(src, tgt, teacher_forcing_ratio=0.0)\n",
    "\n",
    "        output_flat = output[:, 1:].reshape(-1, len(dev2idx))\n",
    "        tgt_flat    = tgt[:, 1:].reshape(-1)\n",
    "\n",
    "        preds = output_flat.argmax(1)\n",
    "        mask  = tgt_flat != pad_idx\n",
    "        token_correct += ((preds == tgt_flat) & mask).sum().item()\n",
    "        token_total   += mask.sum().item()\n",
    "\n",
    "        pred_tokens = output.argmax(2)\n",
    "        for src_seq, pred_seq, true_seq in zip(src, pred_tokens, tgt):\n",
    "            input_text = decode(src_seq, idx2roman)\n",
    "            target_text = decode(true_seq[1:], idx2dev, eos_idx)  # skip <sos>\n",
    "            pred_text = decode(pred_seq[1:], idx2dev, eos_idx)\n",
    "            \n",
    "            pred_rows.append([input_text, target_text, pred_text])\n",
    "            \n",
    "            if pred_text == target_text:\n",
    "                word_correct += 1\n",
    "            word_total += 1\n",
    "\n",
    "# === Results ===\n",
    "token_acc = 100.0 * token_correct / token_total if token_total > 0 else 0.0\n",
    "word_acc  = 100.0 * word_correct / word_total if word_total > 0 else 0.0\n",
    "\n",
    "print(f\"Test Token Accuracy: {token_acc:.2f}%\")\n",
    "print(f\"Test Word Accuracy:  {word_acc:.2f}%\")\n",
    "\n",
    "# === Save predictions to CSV ===\n",
    "with open(CSV_PATH, 'w', newline='', encoding='utf-8') as f:\n",
    "    writer = csv.writer(f)\n",
    "    writer.writerows(pred_rows)\n",
    "\n",
    "print(f\"Saved predictions to {CSV_PATH}\")\n",
    "\n",
    "# === Log results to wandb ===\n",
    "wandb.log({\n",
    "    'test_token_accuracy': token_acc,\n",
    "    'test_word_accuracy': word_acc\n",
    "})\n",
    "\n",
    "eval_run.finish()\n"
   ]
  },
  {
   "cell_type": "code",
   "execution_count": null,
   "id": "73603e98",
   "metadata": {},
   "outputs": [
    {
     "data": {
      "image/png": "[encoded data removed]",
      "text/plain": [
       "<Figure size 1500x1200 with 9 Axes>"
      ]
     },
     "metadata": {},
     "output_type": "display_data"
    }
   ],
   "source": [
    "import pandas as pd\n",
    "import matplotlib.pyplot as plt\n",
    "import matplotlib.patches as patches\n",
    "import matplotlib.font_manager as fm\n",
    "import random\n",
    "import re\n",
    "\n",
    "df = pd.read_csv(CSV_PATH)\n",
    "sampled = df.sample(n=9)\n",
    "fig, axes = plt.subplots(3, 3, figsize=(15, 12))\n",
    "fig.suptitle(\"Random Test Samples and Model Predictions\", fontsize=20)\n",
    "\n",
    "colors = {\n",
    "    \"Input\": \"#3b82f6\",       # Blue\n",
    "    \"Target\": \"#10b981\",      # Green\n",
    "    \"Prediction\": \"#f59e0b\"   # Orange\n",
    "}\n",
    "\n",
    "tamil_font_path = \"/mnt/e_disk/DA6401_Assignment3/NotoSansTamil-VariableFont_wdth,wght.ttf\"  # Update path if needed\n",
    "prop = fm.FontProperties(fname=tamil_font_path)\n",
    "\n",
    "def clean_text(text):\n",
    "    \"\"\"Remove <pad> tokens and strip extra spaces.\"\"\"\n",
    "    return re.sub(r'<pad>', '', text).strip()\n",
    "\n",
    "# === Plot each sample in a grid cell ===\n",
    "for ax, (_, row) in zip(axes.flat, sampled.iterrows()):\n",
    "    input_text = clean_text(row[\"Input\"])\n",
    "    target = clean_text(row[\"Target\"])\n",
    "    prediction = clean_text(row[\"Prediction\"])\n",
    "    correct = target == prediction\n",
    "\n",
    "    bg_color = \"#dcfce7\" if correct else \"#fee2e2\"  # greenish or reddish background\n",
    "    border_color = \"#16a34a\" if correct else \"#dc2626\"\n",
    "  \n",
    "\n",
    "    # Draw background color and border\n",
    "    ax.set_facecolor(bg_color)\n",
    "    ax.add_patch(patches.Rectangle((0, 0), 1, 1, linewidth=3, edgecolor=border_color, facecolor='none'))\n",
    "\n",
    "    # Display texts\n",
    "    ax.text(0.5, 0.8, f\"Input: {input_text}\", color=colors[\"Input\"],\n",
    "            ha='center', va='center', fontsize=20, fontweight='bold', wrap=True)\n",
    "\n",
    "    ax.text(0.5, 0.5, f\"Target: {target}\", color=colors[\"Target\"],\n",
    "            ha='center', va='center', fontsize=20, fontproperties=prop, wrap=True)\n",
    "\n",
    "    ax.text(0.5, 0.25, f\"Pred: {prediction} \", color=colors[\"Prediction\"],\n",
    "            ha='center', va='center', fontsize=20, fontproperties=prop, wrap=True)\n",
    "\n",
    "    ax.set_xticks([])\n",
    "    ax.set_yticks([])\n",
    "    ax.set_xlim(0, 1)\n",
    "    ax.set_ylim(0, 1)\n",
    "\n",
    "plt.tight_layout(rect=[0, 0, 1, 0.95])\n",
    "plt.show()\n"
   ]
  }
 ],
 "metadata": {
  "kernelspec": {
   "display_name": "da24s008",
   "language": "python",
   "name": "python3"
  },
  "language_info": {
   "codemirror_mode": {
    "name": "ipython",
    "version": 3
   },
   "file_extension": ".py",
   "mimetype": "text/x-python",
   "name": "python",
   "nbconvert_exporter": "python",
   "pygments_lexer": "ipython3",
   "version": "3.10.10"
  }
 },
 "nbformat": 4,
 "nbformat_minor": 5
}
